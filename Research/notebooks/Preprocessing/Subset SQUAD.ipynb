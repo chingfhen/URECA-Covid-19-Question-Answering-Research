{
 "cells": [
  {
   "cell_type": "markdown",
   "id": "e594c72e",
   "metadata": {},
   "source": [
    "# Purpose:\n",
    "- Subset and save a smaller SQUAD dataset"
   ]
  },
  {
   "cell_type": "code",
   "execution_count": 1,
   "id": "7aea0e37",
   "metadata": {},
   "outputs": [],
   "source": [
    "from datasets import load_dataset"
   ]
  },
  {
   "cell_type": "code",
   "execution_count": 2,
   "id": "931f8c24",
   "metadata": {},
   "outputs": [],
   "source": [
    "squad_v2 = False\n",
    "seed = 0                             # seed kept the same through all tests to maintain comparability\n",
    "num_training_samples = 20000\n",
    "num_validation_samples = 5000"
   ]
  },
  {
   "cell_type": "code",
   "execution_count": 5,
   "id": "70739384",
   "metadata": {},
   "outputs": [
    {
     "name": "stderr",
     "output_type": "stream",
     "text": [
      "Reusing dataset squad (C:\\Users\\tanch\\.cache\\huggingface\\datasets\\squad\\plain_text\\1.0.0\\1244d044b266a5e4dbd4174d23cb995eead372fbca31a03edc3f8a132787af41)\n"
     ]
    }
   ],
   "source": [
    "datasets = load_dataset(\"squad_v2\" if squad_v2 else \"squad\")"
   ]
  },
  {
   "cell_type": "code",
   "execution_count": 6,
   "id": "c3d69489",
   "metadata": {},
   "outputs": [],
   "source": [
    "# shuffle and take the first n training samples\n",
    "datasets[\"train\"] = datasets[\"train\"].shuffle(seed =seed)                      \n",
    "datasets[\"train\"] = datasets[\"train\"].select(range(num_training_samples))"
   ]
  },
  {
   "cell_type": "code",
   "execution_count": 8,
   "id": "5824a5a6",
   "metadata": {},
   "outputs": [],
   "source": [
    "# shuffle and take the first n validation samples\n",
    "datasets[\"validation\"] = datasets[\"validation\"].shuffle(seed = seed)                      \n",
    "datasets[\"validation\"] = datasets[\"validation\"].select(range(num_validation_samples))"
   ]
  },
  {
   "cell_type": "code",
   "execution_count": 10,
   "id": "44b3909f",
   "metadata": {},
   "outputs": [],
   "source": [
    "path = r\"C:\\Users\\tanch\\Documents\\GitHub\\Covid-19-QA-System\\URECA Research\\SQUAD format data\\SQUAD subset seed 0\"\n",
    "datasets.save_to_disk(path)"
   ]
  }
 ],
 "metadata": {
  "kernelspec": {
   "display_name": "Python 3",
   "language": "python",
   "name": "python3"
  },
  "language_info": {
   "codemirror_mode": {
    "name": "ipython",
    "version": 3
   },
   "file_extension": ".py",
   "mimetype": "text/x-python",
   "name": "python",
   "nbconvert_exporter": "python",
   "pygments_lexer": "ipython3",
   "version": "3.8.3"
  }
 },
 "nbformat": 4,
 "nbformat_minor": 5
}
