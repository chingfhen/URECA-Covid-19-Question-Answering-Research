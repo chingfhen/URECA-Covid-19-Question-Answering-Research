{
 "cells": [
  {
   "cell_type": "markdown",
   "id": "88bd4509",
   "metadata": {},
   "source": [
    "### variables"
   ]
  },
  {
   "cell_type": "code",
   "execution_count": 1,
   "id": "6bd192ff",
   "metadata": {},
   "outputs": [],
   "source": [
    "# This flag is the difference between SQUAD v1 or 2 (if you're using another dataset, it indicates if impossible\n",
    "# answers are allowed or not).\n",
    "model_checkpoint = \"google/electra-base-discriminator\"\n",
    "model_name = model_checkpoint + \" finetuned\"\n",
    "model_path = r\"C:\\Users\\tanch\\Documents\\GitHub\\Covid-19-QA-System\\URECA Research\\models\"+f\"\\\\{model_name}\"\n",
    "batch_size = 5\n",
    "squad_v2 = False"
   ]
  },
  {
   "cell_type": "markdown",
   "id": "5e234053",
   "metadata": {},
   "source": [
    "### 1. Load dataset"
   ]
  },
  {
   "cell_type": "code",
   "execution_count": 2,
   "id": "353b2c5f",
   "metadata": {},
   "outputs": [],
   "source": [
    "from datasets import load_dataset, load_metric, load_from_disk\n",
    "from transformers import AutoTokenizer\n",
    "import transformers\n",
    "from transformers import AutoModelForQuestionAnswering, TrainingArguments, Trainer\n",
    "import numpy as np"
   ]
  },
  {
   "cell_type": "code",
   "execution_count": 3,
   "id": "72a2dd63",
   "metadata": {},
   "outputs": [],
   "source": [
    "import json\n",
    "def read_squad(path):                           # \n",
    "    path = Path(path)\n",
    "    with open(path, 'rb') as f:\n",
    "        squad_dict = json.load(f)\n",
    "        \n",
    "    contexts = []\n",
    "    questions = []\n",
    "    answers = []\n",
    "    for group in squad_dict['data']:\n",
    "        for passage in group['paragraphs']:\n",
    "            context = passage['context']\n",
    "            for qa in passage['qas']:\n",
    "                question = qa['question']\n",
    "                for answer in qa['answers']:\n",
    "                    contexts.append(context)\n",
    "                    questions.append(question)\n",
    "                    answers.append(answer)        \n",
    "    return contexts, questions, answers\n",
    "# remove some irrelevant keys - they seem to cause some issues\n",
    "# convert 'answer_start': 177 into 'answer_start': [177]\n",
    "# convert 'text': \"Singapore Airlines\" into 'text': [\"Singapore Airlines\"]\n",
    "# convert ids to string - 1 to '1'\n",
    "def clean_up(example):\n",
    "    del example['answers']['answer_category']\n",
    "    del example['answers']['answer_id']\n",
    "    del example['answers']['document_id']\n",
    "    del example['answers']['question_id']\n",
    "    example['answers']['answer_start'] = [example['answers']['answer_start']] #for _ in range(3)]\n",
    "    example['answers']['text'] = [example['answers']['text']] #for _ in range(3)]\n",
    "    example['id'] = str(example['id'])\n",
    "    return example"
   ]
  },
  {
   "cell_type": "code",
   "execution_count": 4,
   "id": "4fe794bf",
   "metadata": {},
   "outputs": [
    {
     "data": {
      "application/javascript": [
       "\n",
       "        if (window._pyforest_update_imports_cell) { window._pyforest_update_imports_cell('from pathlib import Path'); }\n",
       "    "
      ],
      "text/plain": [
       "<IPython.core.display.Javascript object>"
      ]
     },
     "metadata": {},
     "output_type": "display_data"
    },
    {
     "data": {
      "application/vnd.jupyter.widget-view+json": {
       "model_id": "",
       "version_major": 2,
       "version_minor": 0
      },
      "text/plain": [
       "HBox(children=(FloatProgress(value=0.0, max=265.0), HTML(value='')))"
      ]
     },
     "metadata": {},
     "output_type": "display_data"
    },
    {
     "name": "stdout",
     "output_type": "stream",
     "text": [
      "\n"
     ]
    },
    {
     "data": {
      "text/plain": [
       "Dataset({\n",
       "    features: ['answers', 'context', 'id', 'question'],\n",
       "    num_rows: 265\n",
       "})"
      ]
     },
     "execution_count": 4,
     "metadata": {},
     "output_type": "execute_result"
    }
   ],
   "source": [
    "# load covidQA - singapore covid 19 related question answer pairs\n",
    "from datasets import Dataset\n",
    "path = r\"C:\\Users\\tanch\\Documents\\GitHub\\Covid-19-QA-System\\QA System\\SQUAD formatted data\\covidQA.json\"\n",
    "train_contexts, train_questions, train_answers = read_squad(path)\n",
    "covidQA = Dataset.from_dict({\"id\":range(len(train_contexts)),\n",
    "                                      'context': train_contexts,\n",
    "                                      \"question\": train_questions,\n",
    "                                      \"answers\": train_answers})\n",
    "covidQA = covidQA.map(clean_up)\n",
    "covidQA"
   ]
  },
  {
   "cell_type": "markdown",
   "id": "7e431f22",
   "metadata": {},
   "source": [
    "### 2. Load fine-tuned Model"
   ]
  },
  {
   "cell_type": "code",
   "execution_count": 5,
   "id": "9ac20d85",
   "metadata": {},
   "outputs": [],
   "source": [
    "# model has not been fine tuned on any downstream task\n",
    "model = AutoModelForQuestionAnswering.from_pretrained(model_path)"
   ]
  },
  {
   "cell_type": "code",
   "execution_count": 6,
   "id": "9c08a140",
   "metadata": {},
   "outputs": [
    {
     "data": {
      "text/plain": [
       "device(type='cuda', index=0)"
      ]
     },
     "execution_count": 6,
     "metadata": {},
     "output_type": "execute_result"
    }
   ],
   "source": [
    "import torch\n",
    "import gc\n",
    "gc.collect()\n",
    "torch.cuda.empty_cache()                   # empty cache so cude can be used \n",
    "model.to(torch.device('cuda:0'))    # use GPU 0\n",
    "model.device                         # current device"
   ]
  },
  {
   "cell_type": "markdown",
   "id": "f099633d",
   "metadata": {},
   "source": [
    "### 3. Evaluate on varying max_length"
   ]
  },
  {
   "cell_type": "code",
   "execution_count": 7,
   "id": "94c2d24d",
   "metadata": {},
   "outputs": [],
   "source": [
    "def prepare_validation_features(examples):\n",
    "    # Tokenize our examples with truncation and maybe padding, but keep the overflows using a stride. This results\n",
    "    # in one example possible giving several features when a context is long, each of those features having a\n",
    "    # context that overlaps a bit the context of the previous feature.\n",
    "    tokenized_examples = tokenizer(\n",
    "        examples[\"question\" if pad_on_right else \"context\"],\n",
    "        examples[\"context\" if pad_on_right else \"question\"],\n",
    "        truncation=\"only_second\" if pad_on_right else \"only_first\",\n",
    "        max_length=max_length,\n",
    "        stride=doc_stride,\n",
    "        return_overflowing_tokens=True,\n",
    "        return_offsets_mapping=True,\n",
    "        padding=\"max_length\",\n",
    "    )\n",
    "\n",
    "    # Since one example might give us several features if it has a long context, we need a map from a feature to\n",
    "    # its corresponding example. This key gives us just that.\n",
    "    sample_mapping = tokenized_examples.pop(\"overflow_to_sample_mapping\")\n",
    "\n",
    "    # We keep the example_id that gave us this feature and we will store the offset mappings.\n",
    "    tokenized_examples[\"example_id\"] = []\n",
    "\n",
    "    for i in range(len(tokenized_examples[\"input_ids\"])):\n",
    "        # Grab the sequence corresponding to that example (to know what is the context and what is the question).\n",
    "        sequence_ids = tokenized_examples.sequence_ids(i)\n",
    "        context_index = 1 if pad_on_right else 0\n",
    "\n",
    "        # One example can give several spans, this is the index of the example containing this span of text.\n",
    "        sample_index = sample_mapping[i]\n",
    "        tokenized_examples[\"example_id\"].append(examples[\"id\"][sample_index])\n",
    "\n",
    "        # Set to None the offset_mapping that are not part of the context so it's easy to determine if a token\n",
    "        # position is part of the context or not.\n",
    "        tokenized_examples[\"offset_mapping\"][i] = [\n",
    "            (o if sequence_ids[k] == context_index else None)\n",
    "            for k, o in enumerate(tokenized_examples[\"offset_mapping\"][i])\n",
    "        ]\n",
    "\n",
    "    return tokenized_examples"
   ]
  },
  {
   "cell_type": "code",
   "execution_count": 8,
   "id": "f99e2fb1",
   "metadata": {},
   "outputs": [],
   "source": [
    "from tqdm.auto import tqdm\n",
    "import collections\n",
    "def postprocess_qa_predictions(examples, features, raw_predictions, n_best_size = 20, max_answer_length = 30):\n",
    "    all_start_logits, all_end_logits = raw_predictions\n",
    "    # Build a map example to its corresponding features.\n",
    "    example_id_to_index = {k: i for i, k in enumerate(examples[\"id\"])}\n",
    "    features_per_example = collections.defaultdict(list)\n",
    "    for i, feature in enumerate(features):\n",
    "        features_per_example[example_id_to_index[feature[\"example_id\"]]].append(i)\n",
    "\n",
    "    # The dictionaries we have to fill.\n",
    "    predictions = collections.OrderedDict()\n",
    "\n",
    "    # Logging.\n",
    "    print(f\"Post-processing {len(examples)} example predictions split into {len(features)} features.\")\n",
    "\n",
    "    # Let's loop over all the examples!\n",
    "    for example_index, example in enumerate(tqdm(examples)):\n",
    "        # Those are the indices of the features associated to the current example.\n",
    "        feature_indices = features_per_example[example_index]\n",
    "\n",
    "        min_null_score = None # Only used if squad_v2 is True.\n",
    "        valid_answers = []\n",
    "        \n",
    "        context = example[\"context\"]\n",
    "        # Looping through all the features associated to the current example.\n",
    "        for feature_index in feature_indices:\n",
    "            # We grab the predictions of the model for this feature.\n",
    "            start_logits = all_start_logits[feature_index]\n",
    "            end_logits = all_end_logits[feature_index]\n",
    "            # This is what will allow us to map some the positions in our logits to span of texts in the original\n",
    "            # context.\n",
    "            offset_mapping = features[feature_index][\"offset_mapping\"]\n",
    "\n",
    "            # Update minimum null prediction.\n",
    "            cls_index = features[feature_index][\"input_ids\"].index(tokenizer.cls_token_id)\n",
    "            feature_null_score = start_logits[cls_index] + end_logits[cls_index]\n",
    "            if min_null_score is None or min_null_score < feature_null_score:\n",
    "                min_null_score = feature_null_score\n",
    "\n",
    "            # Go through all possibilities for the `n_best_size` greater start and end logits.\n",
    "            start_indexes = np.argsort(start_logits)[-1 : -n_best_size - 1 : -1].tolist()\n",
    "            end_indexes = np.argsort(end_logits)[-1 : -n_best_size - 1 : -1].tolist()\n",
    "            for start_index in start_indexes:\n",
    "                for end_index in end_indexes:\n",
    "                    # Don't consider out-of-scope answers, either because the indices are out of bounds or correspond\n",
    "                    # to part of the input_ids that are not in the context.\n",
    "                    if (\n",
    "                        start_index >= len(offset_mapping)\n",
    "                        or end_index >= len(offset_mapping)\n",
    "                        or offset_mapping[start_index] is None\n",
    "                        or offset_mapping[end_index] is None\n",
    "                    ):\n",
    "                        continue\n",
    "                    # Don't consider answers with a length that is either < 0 or > max_answer_length.\n",
    "                    if end_index < start_index or end_index - start_index + 1 > max_answer_length:\n",
    "                        continue\n",
    "\n",
    "                    start_char = offset_mapping[start_index][0]\n",
    "                    end_char = offset_mapping[end_index][1]\n",
    "                    valid_answers.append(\n",
    "                        {\n",
    "                            \"score\": start_logits[start_index] + end_logits[end_index],\n",
    "                            \"text\": context[start_char: end_char]\n",
    "                        }\n",
    "                    )\n",
    "        \n",
    "        if len(valid_answers) > 0:\n",
    "            best_answer = sorted(valid_answers, key=lambda x: x[\"score\"], reverse=True)[0]\n",
    "        else:\n",
    "            # In the very rare edge case we have not a single non-null prediction, we create a fake prediction to avoid\n",
    "            # failure.\n",
    "            best_answer = {\"text\": \"\", \"score\": 0.0}\n",
    "        \n",
    "        # Let's pick our final answer: the best one or the null answer (only for squad_v2)\n",
    "        if not squad_v2:\n",
    "            predictions[example[\"id\"]] = best_answer[\"text\"]\n",
    "        else:\n",
    "            answer = best_answer[\"text\"] if best_answer[\"score\"] > min_null_score else \"\"\n",
    "            predictions[example[\"id\"]] = answer\n",
    "\n",
    "    return predictions"
   ]
  },
  {
   "cell_type": "code",
   "execution_count": 9,
   "id": "ac62e8b2",
   "metadata": {},
   "outputs": [],
   "source": [
    "max_lengths_list = range(100,400+1,30)\n",
    "max_lengths_results = []"
   ]
  },
  {
   "cell_type": "code",
   "execution_count": 10,
   "id": "e5c1ad73",
   "metadata": {},
   "outputs": [
    {
     "name": "stdout",
     "output_type": "stream",
     "text": [
      "100 130 160 190 220 250 280 310 340 370 400\n"
     ]
    }
   ],
   "source": [
    "print(*range(100,400+1,30))"
   ]
  },
  {
   "cell_type": "code",
   "execution_count": 11,
   "id": "cdc18bd4",
   "metadata": {},
   "outputs": [
    {
     "data": {
      "application/vnd.jupyter.widget-view+json": {
       "model_id": "",
       "version_major": 2,
       "version_minor": 0
      },
      "text/plain": [
       "HBox(children=(FloatProgress(value=0.0, max=1.0), HTML(value='')))"
      ]
     },
     "metadata": {},
     "output_type": "display_data"
    },
    {
     "name": "stdout",
     "output_type": "stream",
     "text": [
      "\n"
     ]
    },
    {
     "data": {
      "text/html": [
       "\n",
       "    <div>\n",
       "        <style>\n",
       "            /* Turns off some styling */\n",
       "            progress {\n",
       "                /* gets rid of default border in Firefox and Opera. */\n",
       "                border: none;\n",
       "                /* Needs to be in here for Safari polyfill so background images work as expected. */\n",
       "                background-size: auto;\n",
       "            }\n",
       "        </style>\n",
       "      \n",
       "      <progress value='912' max='912' style='width:300px; height:20px; vertical-align: middle;'></progress>\n",
       "      [912/912 01:05]\n",
       "    </div>\n",
       "    "
      ],
      "text/plain": [
       "<IPython.core.display.HTML object>"
      ]
     },
     "metadata": {},
     "output_type": "display_data"
    },
    {
     "name": "stdout",
     "output_type": "stream",
     "text": [
      "Post-processing 265 example predictions split into 7290 features.\n"
     ]
    },
    {
     "data": {
      "application/vnd.jupyter.widget-view+json": {
       "model_id": "",
       "version_major": 2,
       "version_minor": 0
      },
      "text/plain": [
       "HBox(children=(FloatProgress(value=0.0, max=265.0), HTML(value='')))"
      ]
     },
     "metadata": {},
     "output_type": "display_data"
    },
    {
     "name": "stdout",
     "output_type": "stream",
     "text": [
      "\n",
      "100 {'exact_match': 44.15094339622642, 'f1': 53.548015995759705}\n"
     ]
    },
    {
     "data": {
      "application/vnd.jupyter.widget-view+json": {
       "model_id": "",
       "version_major": 2,
       "version_minor": 0
      },
      "text/plain": [
       "HBox(children=(FloatProgress(value=0.0, max=1.0), HTML(value='')))"
      ]
     },
     "metadata": {},
     "output_type": "display_data"
    },
    {
     "name": "stdout",
     "output_type": "stream",
     "text": [
      "\n"
     ]
    },
    {
     "data": {
      "text/html": [
       "\n",
       "    <div>\n",
       "        <style>\n",
       "            /* Turns off some styling */\n",
       "            progress {\n",
       "                /* gets rid of default border in Firefox and Opera. */\n",
       "                border: none;\n",
       "                /* Needs to be in here for Safari polyfill so background images work as expected. */\n",
       "                background-size: auto;\n",
       "            }\n",
       "        </style>\n",
       "      \n",
       "      <progress value='634' max='634' style='width:300px; height:20px; vertical-align: middle;'></progress>\n",
       "      [634/634 00:57]\n",
       "    </div>\n",
       "    "
      ],
      "text/plain": [
       "<IPython.core.display.HTML object>"
      ]
     },
     "metadata": {},
     "output_type": "display_data"
    },
    {
     "name": "stdout",
     "output_type": "stream",
     "text": [
      "Post-processing 265 example predictions split into 5072 features.\n"
     ]
    },
    {
     "data": {
      "application/vnd.jupyter.widget-view+json": {
       "model_id": "",
       "version_major": 2,
       "version_minor": 0
      },
      "text/plain": [
       "HBox(children=(FloatProgress(value=0.0, max=265.0), HTML(value='')))"
      ]
     },
     "metadata": {},
     "output_type": "display_data"
    },
    {
     "name": "stdout",
     "output_type": "stream",
     "text": [
      "\n",
      "130 {'exact_match': 43.77358490566038, 'f1': 55.55124080117947}\n"
     ]
    },
    {
     "data": {
      "application/vnd.jupyter.widget-view+json": {
       "model_id": "",
       "version_major": 2,
       "version_minor": 0
      },
      "text/plain": [
       "HBox(children=(FloatProgress(value=0.0, max=1.0), HTML(value='')))"
      ]
     },
     "metadata": {},
     "output_type": "display_data"
    },
    {
     "name": "stdout",
     "output_type": "stream",
     "text": [
      "\n"
     ]
    },
    {
     "data": {
      "text/html": [
       "\n",
       "    <div>\n",
       "        <style>\n",
       "            /* Turns off some styling */\n",
       "            progress {\n",
       "                /* gets rid of default border in Firefox and Opera. */\n",
       "                border: none;\n",
       "                /* Needs to be in here for Safari polyfill so background images work as expected. */\n",
       "                background-size: auto;\n",
       "            }\n",
       "        </style>\n",
       "      \n",
       "      <progress value='486' max='486' style='width:300px; height:20px; vertical-align: middle;'></progress>\n",
       "      [486/486 00:48]\n",
       "    </div>\n",
       "    "
      ],
      "text/plain": [
       "<IPython.core.display.HTML object>"
      ]
     },
     "metadata": {},
     "output_type": "display_data"
    },
    {
     "name": "stdout",
     "output_type": "stream",
     "text": [
      "Post-processing 265 example predictions split into 3884 features.\n"
     ]
    },
    {
     "data": {
      "application/vnd.jupyter.widget-view+json": {
       "model_id": "",
       "version_major": 2,
       "version_minor": 0
      },
      "text/plain": [
       "HBox(children=(FloatProgress(value=0.0, max=265.0), HTML(value='')))"
      ]
     },
     "metadata": {},
     "output_type": "display_data"
    },
    {
     "name": "stdout",
     "output_type": "stream",
     "text": [
      "\n",
      "160 {'exact_match': 46.0377358490566, 'f1': 56.28710688808826}\n"
     ]
    },
    {
     "data": {
      "application/vnd.jupyter.widget-view+json": {
       "model_id": "",
       "version_major": 2,
       "version_minor": 0
      },
      "text/plain": [
       "HBox(children=(FloatProgress(value=0.0, max=1.0), HTML(value='')))"
      ]
     },
     "metadata": {},
     "output_type": "display_data"
    },
    {
     "name": "stdout",
     "output_type": "stream",
     "text": [
      "\n"
     ]
    },
    {
     "data": {
      "text/html": [
       "\n",
       "    <div>\n",
       "        <style>\n",
       "            /* Turns off some styling */\n",
       "            progress {\n",
       "                /* gets rid of default border in Firefox and Opera. */\n",
       "                border: none;\n",
       "                /* Needs to be in here for Safari polyfill so background images work as expected. */\n",
       "                background-size: auto;\n",
       "            }\n",
       "        </style>\n",
       "      \n",
       "      <progress value='392' max='392' style='width:300px; height:20px; vertical-align: middle;'></progress>\n",
       "      [392/392 00:47]\n",
       "    </div>\n",
       "    "
      ],
      "text/plain": [
       "<IPython.core.display.HTML object>"
      ]
     },
     "metadata": {},
     "output_type": "display_data"
    },
    {
     "name": "stdout",
     "output_type": "stream",
     "text": [
      "Post-processing 265 example predictions split into 3135 features.\n"
     ]
    },
    {
     "data": {
      "application/vnd.jupyter.widget-view+json": {
       "model_id": "",
       "version_major": 2,
       "version_minor": 0
      },
      "text/plain": [
       "HBox(children=(FloatProgress(value=0.0, max=265.0), HTML(value='')))"
      ]
     },
     "metadata": {},
     "output_type": "display_data"
    },
    {
     "name": "stdout",
     "output_type": "stream",
     "text": [
      "\n",
      "190 {'exact_match': 44.528301886792455, 'f1': 57.66610619427552}\n"
     ]
    },
    {
     "data": {
      "application/vnd.jupyter.widget-view+json": {
       "model_id": "",
       "version_major": 2,
       "version_minor": 0
      },
      "text/plain": [
       "HBox(children=(FloatProgress(value=0.0, max=1.0), HTML(value='')))"
      ]
     },
     "metadata": {},
     "output_type": "display_data"
    },
    {
     "name": "stdout",
     "output_type": "stream",
     "text": [
      "\n"
     ]
    },
    {
     "data": {
      "text/html": [
       "\n",
       "    <div>\n",
       "        <style>\n",
       "            /* Turns off some styling */\n",
       "            progress {\n",
       "                /* gets rid of default border in Firefox and Opera. */\n",
       "                border: none;\n",
       "                /* Needs to be in here for Safari polyfill so background images work as expected. */\n",
       "                background-size: auto;\n",
       "            }\n",
       "        </style>\n",
       "      \n",
       "      <progress value='328' max='328' style='width:300px; height:20px; vertical-align: middle;'></progress>\n",
       "      [328/328 00:47]\n",
       "    </div>\n",
       "    "
      ],
      "text/plain": [
       "<IPython.core.display.HTML object>"
      ]
     },
     "metadata": {},
     "output_type": "display_data"
    },
    {
     "name": "stdout",
     "output_type": "stream",
     "text": [
      "Post-processing 265 example predictions split into 2617 features.\n"
     ]
    },
    {
     "data": {
      "application/vnd.jupyter.widget-view+json": {
       "model_id": "",
       "version_major": 2,
       "version_minor": 0
      },
      "text/plain": [
       "HBox(children=(FloatProgress(value=0.0, max=265.0), HTML(value='')))"
      ]
     },
     "metadata": {},
     "output_type": "display_data"
    },
    {
     "name": "stdout",
     "output_type": "stream",
     "text": [
      "\n",
      "220 {'exact_match': 44.15094339622642, 'f1': 55.34739478108319}\n"
     ]
    },
    {
     "data": {
      "application/vnd.jupyter.widget-view+json": {
       "model_id": "",
       "version_major": 2,
       "version_minor": 0
      },
      "text/plain": [
       "HBox(children=(FloatProgress(value=0.0, max=1.0), HTML(value='')))"
      ]
     },
     "metadata": {},
     "output_type": "display_data"
    },
    {
     "name": "stdout",
     "output_type": "stream",
     "text": [
      "\n"
     ]
    },
    {
     "data": {
      "text/html": [
       "\n",
       "    <div>\n",
       "        <style>\n",
       "            /* Turns off some styling */\n",
       "            progress {\n",
       "                /* gets rid of default border in Firefox and Opera. */\n",
       "                border: none;\n",
       "                /* Needs to be in here for Safari polyfill so background images work as expected. */\n",
       "                background-size: auto;\n",
       "            }\n",
       "        </style>\n",
       "      \n",
       "      <progress value='283' max='283' style='width:300px; height:20px; vertical-align: middle;'></progress>\n",
       "      [283/283 00:46]\n",
       "    </div>\n",
       "    "
      ],
      "text/plain": [
       "<IPython.core.display.HTML object>"
      ]
     },
     "metadata": {},
     "output_type": "display_data"
    },
    {
     "name": "stdout",
     "output_type": "stream",
     "text": [
      "Post-processing 265 example predictions split into 2257 features.\n"
     ]
    },
    {
     "data": {
      "application/vnd.jupyter.widget-view+json": {
       "model_id": "",
       "version_major": 2,
       "version_minor": 0
      },
      "text/plain": [
       "HBox(children=(FloatProgress(value=0.0, max=265.0), HTML(value='')))"
      ]
     },
     "metadata": {},
     "output_type": "display_data"
    },
    {
     "name": "stdout",
     "output_type": "stream",
     "text": [
      "\n",
      "250 {'exact_match': 47.924528301886795, 'f1': 59.251209655465175}\n"
     ]
    },
    {
     "data": {
      "application/vnd.jupyter.widget-view+json": {
       "model_id": "",
       "version_major": 2,
       "version_minor": 0
      },
      "text/plain": [
       "HBox(children=(FloatProgress(value=0.0, max=1.0), HTML(value='')))"
      ]
     },
     "metadata": {},
     "output_type": "display_data"
    },
    {
     "name": "stdout",
     "output_type": "stream",
     "text": [
      "\n"
     ]
    },
    {
     "data": {
      "text/html": [
       "\n",
       "    <div>\n",
       "        <style>\n",
       "            /* Turns off some styling */\n",
       "            progress {\n",
       "                /* gets rid of default border in Firefox and Opera. */\n",
       "                border: none;\n",
       "                /* Needs to be in here for Safari polyfill so background images work as expected. */\n",
       "                background-size: auto;\n",
       "            }\n",
       "        </style>\n",
       "      \n",
       "      <progress value='245' max='245' style='width:300px; height:20px; vertical-align: middle;'></progress>\n",
       "      [245/245 00:46]\n",
       "    </div>\n",
       "    "
      ],
      "text/plain": [
       "<IPython.core.display.HTML object>"
      ]
     },
     "metadata": {},
     "output_type": "display_data"
    },
    {
     "name": "stdout",
     "output_type": "stream",
     "text": [
      "Post-processing 265 example predictions split into 1960 features.\n"
     ]
    },
    {
     "data": {
      "application/vnd.jupyter.widget-view+json": {
       "model_id": "",
       "version_major": 2,
       "version_minor": 0
      },
      "text/plain": [
       "HBox(children=(FloatProgress(value=0.0, max=265.0), HTML(value='')))"
      ]
     },
     "metadata": {},
     "output_type": "display_data"
    },
    {
     "name": "stdout",
     "output_type": "stream",
     "text": [
      "\n",
      "280 {'exact_match': 48.301886792452834, 'f1': 61.30299976853839}\n"
     ]
    },
    {
     "data": {
      "application/vnd.jupyter.widget-view+json": {
       "model_id": "",
       "version_major": 2,
       "version_minor": 0
      },
      "text/plain": [
       "HBox(children=(FloatProgress(value=0.0, max=1.0), HTML(value='')))"
      ]
     },
     "metadata": {},
     "output_type": "display_data"
    },
    {
     "name": "stdout",
     "output_type": "stream",
     "text": [
      "\n"
     ]
    },
    {
     "data": {
      "text/html": [
       "\n",
       "    <div>\n",
       "        <style>\n",
       "            /* Turns off some styling */\n",
       "            progress {\n",
       "                /* gets rid of default border in Firefox and Opera. */\n",
       "                border: none;\n",
       "                /* Needs to be in here for Safari polyfill so background images work as expected. */\n",
       "                background-size: auto;\n",
       "            }\n",
       "        </style>\n",
       "      \n",
       "      <progress value='218' max='218' style='width:300px; height:20px; vertical-align: middle;'></progress>\n",
       "      [218/218 00:45]\n",
       "    </div>\n",
       "    "
      ],
      "text/plain": [
       "<IPython.core.display.HTML object>"
      ]
     },
     "metadata": {},
     "output_type": "display_data"
    },
    {
     "name": "stdout",
     "output_type": "stream",
     "text": [
      "Post-processing 265 example predictions split into 1738 features.\n"
     ]
    },
    {
     "data": {
      "application/vnd.jupyter.widget-view+json": {
       "model_id": "",
       "version_major": 2,
       "version_minor": 0
      },
      "text/plain": [
       "HBox(children=(FloatProgress(value=0.0, max=265.0), HTML(value='')))"
      ]
     },
     "metadata": {},
     "output_type": "display_data"
    },
    {
     "name": "stdout",
     "output_type": "stream",
     "text": [
      "\n",
      "310 {'exact_match': 49.81132075471698, 'f1': 61.93029076324671}\n"
     ]
    },
    {
     "data": {
      "application/vnd.jupyter.widget-view+json": {
       "model_id": "",
       "version_major": 2,
       "version_minor": 0
      },
      "text/plain": [
       "HBox(children=(FloatProgress(value=0.0, max=1.0), HTML(value='')))"
      ]
     },
     "metadata": {},
     "output_type": "display_data"
    },
    {
     "name": "stdout",
     "output_type": "stream",
     "text": [
      "\n"
     ]
    },
    {
     "data": {
      "text/html": [
       "\n",
       "    <div>\n",
       "        <style>\n",
       "            /* Turns off some styling */\n",
       "            progress {\n",
       "                /* gets rid of default border in Firefox and Opera. */\n",
       "                border: none;\n",
       "                /* Needs to be in here for Safari polyfill so background images work as expected. */\n",
       "                background-size: auto;\n",
       "            }\n",
       "        </style>\n",
       "      \n",
       "      <progress value='193' max='193' style='width:300px; height:20px; vertical-align: middle;'></progress>\n",
       "      [193/193 00:45]\n",
       "    </div>\n",
       "    "
      ],
      "text/plain": [
       "<IPython.core.display.HTML object>"
      ]
     },
     "metadata": {},
     "output_type": "display_data"
    },
    {
     "name": "stdout",
     "output_type": "stream",
     "text": [
      "Post-processing 265 example predictions split into 1541 features.\n"
     ]
    },
    {
     "data": {
      "application/vnd.jupyter.widget-view+json": {
       "model_id": "",
       "version_major": 2,
       "version_minor": 0
      },
      "text/plain": [
       "HBox(children=(FloatProgress(value=0.0, max=265.0), HTML(value='')))"
      ]
     },
     "metadata": {},
     "output_type": "display_data"
    },
    {
     "name": "stdout",
     "output_type": "stream",
     "text": [
      "\n",
      "340 {'exact_match': 49.81132075471698, 'f1': 61.769702875129916}\n"
     ]
    },
    {
     "data": {
      "application/vnd.jupyter.widget-view+json": {
       "model_id": "",
       "version_major": 2,
       "version_minor": 0
      },
      "text/plain": [
       "HBox(children=(FloatProgress(value=0.0, max=1.0), HTML(value='')))"
      ]
     },
     "metadata": {},
     "output_type": "display_data"
    },
    {
     "name": "stdout",
     "output_type": "stream",
     "text": [
      "\n"
     ]
    },
    {
     "data": {
      "text/html": [
       "\n",
       "    <div>\n",
       "        <style>\n",
       "            /* Turns off some styling */\n",
       "            progress {\n",
       "                /* gets rid of default border in Firefox and Opera. */\n",
       "                border: none;\n",
       "                /* Needs to be in here for Safari polyfill so background images work as expected. */\n",
       "                background-size: auto;\n",
       "            }\n",
       "        </style>\n",
       "      \n",
       "      <progress value='176' max='176' style='width:300px; height:20px; vertical-align: middle;'></progress>\n",
       "      [176/176 00:45]\n",
       "    </div>\n",
       "    "
      ],
      "text/plain": [
       "<IPython.core.display.HTML object>"
      ]
     },
     "metadata": {},
     "output_type": "display_data"
    },
    {
     "name": "stdout",
     "output_type": "stream",
     "text": [
      "Post-processing 265 example predictions split into 1402 features.\n"
     ]
    },
    {
     "data": {
      "application/vnd.jupyter.widget-view+json": {
       "model_id": "",
       "version_major": 2,
       "version_minor": 0
      },
      "text/plain": [
       "HBox(children=(FloatProgress(value=0.0, max=265.0), HTML(value='')))"
      ]
     },
     "metadata": {},
     "output_type": "display_data"
    },
    {
     "name": "stdout",
     "output_type": "stream",
     "text": [
      "\n",
      "370 {'exact_match': 49.056603773584904, 'f1': 61.58015556840471}\n"
     ]
    },
    {
     "data": {
      "application/vnd.jupyter.widget-view+json": {
       "model_id": "",
       "version_major": 2,
       "version_minor": 0
      },
      "text/plain": [
       "HBox(children=(FloatProgress(value=0.0, max=1.0), HTML(value='')))"
      ]
     },
     "metadata": {},
     "output_type": "display_data"
    },
    {
     "name": "stdout",
     "output_type": "stream",
     "text": [
      "\n"
     ]
    },
    {
     "data": {
      "text/html": [
       "\n",
       "    <div>\n",
       "        <style>\n",
       "            /* Turns off some styling */\n",
       "            progress {\n",
       "                /* gets rid of default border in Firefox and Opera. */\n",
       "                border: none;\n",
       "                /* Needs to be in here for Safari polyfill so background images work as expected. */\n",
       "                background-size: auto;\n",
       "            }\n",
       "        </style>\n",
       "      \n",
       "      <progress value='163' max='163' style='width:300px; height:20px; vertical-align: middle;'></progress>\n",
       "      [163/163 00:45]\n",
       "    </div>\n",
       "    "
      ],
      "text/plain": [
       "<IPython.core.display.HTML object>"
      ]
     },
     "metadata": {},
     "output_type": "display_data"
    },
    {
     "name": "stdout",
     "output_type": "stream",
     "text": [
      "Post-processing 265 example predictions split into 1299 features.\n"
     ]
    },
    {
     "data": {
      "application/vnd.jupyter.widget-view+json": {
       "model_id": "",
       "version_major": 2,
       "version_minor": 0
      },
      "text/plain": [
       "HBox(children=(FloatProgress(value=0.0, max=265.0), HTML(value='')))"
      ]
     },
     "metadata": {},
     "output_type": "display_data"
    },
    {
     "name": "stdout",
     "output_type": "stream",
     "text": [
      "\n",
      "400 {'exact_match': 47.924528301886795, 'f1': 60.88761305812137}\n"
     ]
    }
   ],
   "source": [
    "\n",
    "for max_length in max_lengths_list:\n",
    "    doc_stride = int(max_length/2)\n",
    "    # instantiate the tokenzier \n",
    "    # note that different models require different tokenizers\n",
    "    tokenizer = AutoTokenizer.from_pretrained(model_checkpoint)\n",
    "    pad_on_right = tokenizer.padding_side == \"right\"\n",
    "\n",
    "    # check that the tokenizer we instantiated  is a fast tokenizer because we need its special features\n",
    "    assert isinstance(tokenizer, transformers.PreTrainedTokenizerFast)\n",
    "\n",
    "    validation_features = covidQA.map(\n",
    "        prepare_validation_features,\n",
    "        batched=True,\n",
    "        remove_columns=covidQA.column_names\n",
    "    )\n",
    "\n",
    "    args = TrainingArguments(\n",
    "        f\"test-squad\",\n",
    "        learning_rate=2e-5,\n",
    "    #         per_device_train_batch_size=batch_size,\n",
    "    #         per_device_eval_batch_size=batch_size,\n",
    "    #         num_train_epochs=num_train_epochs,\n",
    "        weight_decay=0.01\n",
    "    )\n",
    "\n",
    "    from transformers import default_data_collator\n",
    "    data_collator = default_data_collator\n",
    "\n",
    "    trainer = Trainer(\n",
    "        model,\n",
    "        args,\n",
    "        # train_dataset=tokenized_datasets['train'],         # no evaluation set as it is done separately\n",
    "        data_collator=data_collator,\n",
    "        tokenizer=tokenizer,\n",
    "    )\n",
    "\n",
    "    raw_predictions = trainer.predict(validation_features)\n",
    "    validation_features.set_format(type=validation_features.format[\"type\"], columns=list(validation_features.features.keys()))\n",
    "    max_answer_length = 30\n",
    "    final_predictions = postprocess_qa_predictions(covidQA, validation_features, raw_predictions.predictions)\n",
    "\n",
    "    metric = load_metric(\"squad_v2\" if squad_v2 else \"squad\")\n",
    "    if squad_v2:\n",
    "        formatted_predictions = [{\"id\": k, \"prediction_text\": v, \"no_answer_probability\": 0.0} for k, v in final_predictions.items()]\n",
    "    else:\n",
    "        formatted_predictions = [{\"id\": k, \"prediction_text\": v} for k, v in final_predictions.items()]\n",
    "    references = [{\"id\": ex[\"id\"], \"answers\": ex[\"answers\"]} for ex in covidQA]\n",
    "    \n",
    "    EM_f1 = metric.compute(predictions=formatted_predictions, references=references)\n",
    "    print(max_length, EM_f1)\n",
    "    max_lengths_results.append(EM_f1)"
   ]
  },
  {
   "cell_type": "code",
   "execution_count": 12,
   "id": "7541256b",
   "metadata": {},
   "outputs": [
    {
     "data": {
      "text/html": [
       "<div>\n",
       "<style scoped>\n",
       "    .dataframe tbody tr th:only-of-type {\n",
       "        vertical-align: middle;\n",
       "    }\n",
       "\n",
       "    .dataframe tbody tr th {\n",
       "        vertical-align: top;\n",
       "    }\n",
       "\n",
       "    .dataframe thead th {\n",
       "        text-align: right;\n",
       "    }\n",
       "</style>\n",
       "<table border=\"1\" class=\"dataframe\">\n",
       "  <thead>\n",
       "    <tr style=\"text-align: right;\">\n",
       "      <th></th>\n",
       "      <th>model</th>\n",
       "      <th>max_length</th>\n",
       "      <th>EM</th>\n",
       "      <th>f1</th>\n",
       "    </tr>\n",
       "  </thead>\n",
       "  <tbody>\n",
       "    <tr>\n",
       "      <th>0</th>\n",
       "      <td>bert-base-uncased</td>\n",
       "      <td>100</td>\n",
       "      <td>40.377358</td>\n",
       "      <td>48.378431</td>\n",
       "    </tr>\n",
       "    <tr>\n",
       "      <th>1</th>\n",
       "      <td>bert-base-uncased</td>\n",
       "      <td>130</td>\n",
       "      <td>40.754717</td>\n",
       "      <td>50.033348</td>\n",
       "    </tr>\n",
       "    <tr>\n",
       "      <th>2</th>\n",
       "      <td>bert-base-uncased</td>\n",
       "      <td>160</td>\n",
       "      <td>39.622642</td>\n",
       "      <td>50.045857</td>\n",
       "    </tr>\n",
       "    <tr>\n",
       "      <th>3</th>\n",
       "      <td>bert-base-uncased</td>\n",
       "      <td>190</td>\n",
       "      <td>38.113208</td>\n",
       "      <td>48.354075</td>\n",
       "    </tr>\n",
       "    <tr>\n",
       "      <th>4</th>\n",
       "      <td>bert-base-uncased</td>\n",
       "      <td>220</td>\n",
       "      <td>40.000000</td>\n",
       "      <td>50.184600</td>\n",
       "    </tr>\n",
       "    <tr>\n",
       "      <th>5</th>\n",
       "      <td>bert-base-uncased</td>\n",
       "      <td>250</td>\n",
       "      <td>40.377358</td>\n",
       "      <td>51.687932</td>\n",
       "    </tr>\n",
       "    <tr>\n",
       "      <th>6</th>\n",
       "      <td>bert-base-uncased</td>\n",
       "      <td>280</td>\n",
       "      <td>37.735849</td>\n",
       "      <td>48.400679</td>\n",
       "    </tr>\n",
       "    <tr>\n",
       "      <th>7</th>\n",
       "      <td>bert-base-uncased</td>\n",
       "      <td>310</td>\n",
       "      <td>40.000000</td>\n",
       "      <td>50.820780</td>\n",
       "    </tr>\n",
       "    <tr>\n",
       "      <th>8</th>\n",
       "      <td>bert-base-uncased</td>\n",
       "      <td>340</td>\n",
       "      <td>38.490566</td>\n",
       "      <td>48.135850</td>\n",
       "    </tr>\n",
       "    <tr>\n",
       "      <th>9</th>\n",
       "      <td>bert-base-uncased</td>\n",
       "      <td>370</td>\n",
       "      <td>40.000000</td>\n",
       "      <td>50.068434</td>\n",
       "    </tr>\n",
       "    <tr>\n",
       "      <th>10</th>\n",
       "      <td>bert-base-uncased</td>\n",
       "      <td>400</td>\n",
       "      <td>38.490566</td>\n",
       "      <td>49.876556</td>\n",
       "    </tr>\n",
       "    <tr>\n",
       "      <th>11</th>\n",
       "      <td>albert-base-v1</td>\n",
       "      <td>100</td>\n",
       "      <td>39.622642</td>\n",
       "      <td>50.423652</td>\n",
       "    </tr>\n",
       "    <tr>\n",
       "      <th>12</th>\n",
       "      <td>albert-base-v1</td>\n",
       "      <td>130</td>\n",
       "      <td>41.132075</td>\n",
       "      <td>51.115455</td>\n",
       "    </tr>\n",
       "    <tr>\n",
       "      <th>13</th>\n",
       "      <td>albert-base-v1</td>\n",
       "      <td>160</td>\n",
       "      <td>44.150943</td>\n",
       "      <td>54.533353</td>\n",
       "    </tr>\n",
       "    <tr>\n",
       "      <th>14</th>\n",
       "      <td>albert-base-v1</td>\n",
       "      <td>190</td>\n",
       "      <td>43.773585</td>\n",
       "      <td>55.106712</td>\n",
       "    </tr>\n",
       "    <tr>\n",
       "      <th>15</th>\n",
       "      <td>albert-base-v1</td>\n",
       "      <td>220</td>\n",
       "      <td>43.396226</td>\n",
       "      <td>55.346389</td>\n",
       "    </tr>\n",
       "    <tr>\n",
       "      <th>16</th>\n",
       "      <td>albert-base-v1</td>\n",
       "      <td>250</td>\n",
       "      <td>41.886792</td>\n",
       "      <td>53.693723</td>\n",
       "    </tr>\n",
       "    <tr>\n",
       "      <th>17</th>\n",
       "      <td>albert-base-v1</td>\n",
       "      <td>280</td>\n",
       "      <td>44.905660</td>\n",
       "      <td>56.507370</td>\n",
       "    </tr>\n",
       "    <tr>\n",
       "      <th>18</th>\n",
       "      <td>albert-base-v1</td>\n",
       "      <td>310</td>\n",
       "      <td>46.037736</td>\n",
       "      <td>57.907004</td>\n",
       "    </tr>\n",
       "    <tr>\n",
       "      <th>19</th>\n",
       "      <td>albert-base-v1</td>\n",
       "      <td>340</td>\n",
       "      <td>45.660377</td>\n",
       "      <td>56.976908</td>\n",
       "    </tr>\n",
       "    <tr>\n",
       "      <th>20</th>\n",
       "      <td>albert-base-v1</td>\n",
       "      <td>370</td>\n",
       "      <td>48.679245</td>\n",
       "      <td>60.875595</td>\n",
       "    </tr>\n",
       "    <tr>\n",
       "      <th>21</th>\n",
       "      <td>albert-base-v1</td>\n",
       "      <td>400</td>\n",
       "      <td>46.415094</td>\n",
       "      <td>56.907818</td>\n",
       "    </tr>\n",
       "    <tr>\n",
       "      <th>22</th>\n",
       "      <td>distilroberta-base</td>\n",
       "      <td>100</td>\n",
       "      <td>47.169811</td>\n",
       "      <td>56.363672</td>\n",
       "    </tr>\n",
       "    <tr>\n",
       "      <th>23</th>\n",
       "      <td>distilroberta-base</td>\n",
       "      <td>130</td>\n",
       "      <td>44.528302</td>\n",
       "      <td>54.559858</td>\n",
       "    </tr>\n",
       "    <tr>\n",
       "      <th>24</th>\n",
       "      <td>distilroberta-base</td>\n",
       "      <td>160</td>\n",
       "      <td>47.169811</td>\n",
       "      <td>55.652405</td>\n",
       "    </tr>\n",
       "    <tr>\n",
       "      <th>25</th>\n",
       "      <td>distilroberta-base</td>\n",
       "      <td>190</td>\n",
       "      <td>46.415094</td>\n",
       "      <td>55.480626</td>\n",
       "    </tr>\n",
       "    <tr>\n",
       "      <th>26</th>\n",
       "      <td>distilroberta-base</td>\n",
       "      <td>220</td>\n",
       "      <td>44.905660</td>\n",
       "      <td>53.885012</td>\n",
       "    </tr>\n",
       "    <tr>\n",
       "      <th>27</th>\n",
       "      <td>distilroberta-base</td>\n",
       "      <td>250</td>\n",
       "      <td>45.660377</td>\n",
       "      <td>55.753739</td>\n",
       "    </tr>\n",
       "    <tr>\n",
       "      <th>28</th>\n",
       "      <td>distilroberta-base</td>\n",
       "      <td>280</td>\n",
       "      <td>47.169811</td>\n",
       "      <td>57.604494</td>\n",
       "    </tr>\n",
       "    <tr>\n",
       "      <th>29</th>\n",
       "      <td>distilroberta-base</td>\n",
       "      <td>310</td>\n",
       "      <td>44.150943</td>\n",
       "      <td>53.519730</td>\n",
       "    </tr>\n",
       "    <tr>\n",
       "      <th>30</th>\n",
       "      <td>distilroberta-base</td>\n",
       "      <td>340</td>\n",
       "      <td>45.283019</td>\n",
       "      <td>54.875559</td>\n",
       "    </tr>\n",
       "    <tr>\n",
       "      <th>31</th>\n",
       "      <td>distilroberta-base</td>\n",
       "      <td>370</td>\n",
       "      <td>46.792453</td>\n",
       "      <td>56.431015</td>\n",
       "    </tr>\n",
       "    <tr>\n",
       "      <th>32</th>\n",
       "      <td>distilroberta-base</td>\n",
       "      <td>400</td>\n",
       "      <td>46.037736</td>\n",
       "      <td>54.546144</td>\n",
       "    </tr>\n",
       "    <tr>\n",
       "      <th>33</th>\n",
       "      <td>distilbert-base-uncased</td>\n",
       "      <td>100</td>\n",
       "      <td>37.358491</td>\n",
       "      <td>46.164235</td>\n",
       "    </tr>\n",
       "    <tr>\n",
       "      <th>34</th>\n",
       "      <td>distilbert-base-uncased</td>\n",
       "      <td>130</td>\n",
       "      <td>37.735849</td>\n",
       "      <td>48.125113</td>\n",
       "    </tr>\n",
       "    <tr>\n",
       "      <th>35</th>\n",
       "      <td>distilbert-base-uncased</td>\n",
       "      <td>160</td>\n",
       "      <td>36.981132</td>\n",
       "      <td>46.095723</td>\n",
       "    </tr>\n",
       "    <tr>\n",
       "      <th>36</th>\n",
       "      <td>distilbert-base-uncased</td>\n",
       "      <td>190</td>\n",
       "      <td>37.358491</td>\n",
       "      <td>46.796767</td>\n",
       "    </tr>\n",
       "    <tr>\n",
       "      <th>37</th>\n",
       "      <td>distilbert-base-uncased</td>\n",
       "      <td>220</td>\n",
       "      <td>37.358491</td>\n",
       "      <td>46.837061</td>\n",
       "    </tr>\n",
       "    <tr>\n",
       "      <th>38</th>\n",
       "      <td>distilbert-base-uncased</td>\n",
       "      <td>250</td>\n",
       "      <td>38.113208</td>\n",
       "      <td>47.556176</td>\n",
       "    </tr>\n",
       "    <tr>\n",
       "      <th>39</th>\n",
       "      <td>distilbert-base-uncased</td>\n",
       "      <td>280</td>\n",
       "      <td>37.735849</td>\n",
       "      <td>47.011211</td>\n",
       "    </tr>\n",
       "    <tr>\n",
       "      <th>40</th>\n",
       "      <td>distilbert-base-uncased</td>\n",
       "      <td>310</td>\n",
       "      <td>40.000000</td>\n",
       "      <td>50.474261</td>\n",
       "    </tr>\n",
       "    <tr>\n",
       "      <th>41</th>\n",
       "      <td>distilbert-base-uncased</td>\n",
       "      <td>340</td>\n",
       "      <td>38.867925</td>\n",
       "      <td>48.329782</td>\n",
       "    </tr>\n",
       "    <tr>\n",
       "      <th>42</th>\n",
       "      <td>distilbert-base-uncased</td>\n",
       "      <td>370</td>\n",
       "      <td>37.735849</td>\n",
       "      <td>48.004239</td>\n",
       "    </tr>\n",
       "    <tr>\n",
       "      <th>43</th>\n",
       "      <td>distilbert-base-uncased</td>\n",
       "      <td>400</td>\n",
       "      <td>40.000000</td>\n",
       "      <td>50.484912</td>\n",
       "    </tr>\n",
       "    <tr>\n",
       "      <th>0</th>\n",
       "      <td>google/electra-base-discriminator</td>\n",
       "      <td>100</td>\n",
       "      <td>44.150943</td>\n",
       "      <td>53.548016</td>\n",
       "    </tr>\n",
       "    <tr>\n",
       "      <th>1</th>\n",
       "      <td>google/electra-base-discriminator</td>\n",
       "      <td>130</td>\n",
       "      <td>43.773585</td>\n",
       "      <td>55.551241</td>\n",
       "    </tr>\n",
       "    <tr>\n",
       "      <th>2</th>\n",
       "      <td>google/electra-base-discriminator</td>\n",
       "      <td>160</td>\n",
       "      <td>46.037736</td>\n",
       "      <td>56.287107</td>\n",
       "    </tr>\n",
       "    <tr>\n",
       "      <th>3</th>\n",
       "      <td>google/electra-base-discriminator</td>\n",
       "      <td>190</td>\n",
       "      <td>44.528302</td>\n",
       "      <td>57.666106</td>\n",
       "    </tr>\n",
       "    <tr>\n",
       "      <th>4</th>\n",
       "      <td>google/electra-base-discriminator</td>\n",
       "      <td>220</td>\n",
       "      <td>44.150943</td>\n",
       "      <td>55.347395</td>\n",
       "    </tr>\n",
       "    <tr>\n",
       "      <th>5</th>\n",
       "      <td>google/electra-base-discriminator</td>\n",
       "      <td>250</td>\n",
       "      <td>47.924528</td>\n",
       "      <td>59.251210</td>\n",
       "    </tr>\n",
       "    <tr>\n",
       "      <th>6</th>\n",
       "      <td>google/electra-base-discriminator</td>\n",
       "      <td>280</td>\n",
       "      <td>48.301887</td>\n",
       "      <td>61.303000</td>\n",
       "    </tr>\n",
       "    <tr>\n",
       "      <th>7</th>\n",
       "      <td>google/electra-base-discriminator</td>\n",
       "      <td>310</td>\n",
       "      <td>49.811321</td>\n",
       "      <td>61.930291</td>\n",
       "    </tr>\n",
       "    <tr>\n",
       "      <th>8</th>\n",
       "      <td>google/electra-base-discriminator</td>\n",
       "      <td>340</td>\n",
       "      <td>49.811321</td>\n",
       "      <td>61.769703</td>\n",
       "    </tr>\n",
       "    <tr>\n",
       "      <th>9</th>\n",
       "      <td>google/electra-base-discriminator</td>\n",
       "      <td>370</td>\n",
       "      <td>49.056604</td>\n",
       "      <td>61.580156</td>\n",
       "    </tr>\n",
       "    <tr>\n",
       "      <th>10</th>\n",
       "      <td>google/electra-base-discriminator</td>\n",
       "      <td>400</td>\n",
       "      <td>47.924528</td>\n",
       "      <td>60.887613</td>\n",
       "    </tr>\n",
       "  </tbody>\n",
       "</table>\n",
       "</div>"
      ],
      "text/plain": [
       "                                model  max_length         EM         f1\n",
       "0                   bert-base-uncased         100  40.377358  48.378431\n",
       "1                   bert-base-uncased         130  40.754717  50.033348\n",
       "2                   bert-base-uncased         160  39.622642  50.045857\n",
       "3                   bert-base-uncased         190  38.113208  48.354075\n",
       "4                   bert-base-uncased         220  40.000000  50.184600\n",
       "5                   bert-base-uncased         250  40.377358  51.687932\n",
       "6                   bert-base-uncased         280  37.735849  48.400679\n",
       "7                   bert-base-uncased         310  40.000000  50.820780\n",
       "8                   bert-base-uncased         340  38.490566  48.135850\n",
       "9                   bert-base-uncased         370  40.000000  50.068434\n",
       "10                  bert-base-uncased         400  38.490566  49.876556\n",
       "11                     albert-base-v1         100  39.622642  50.423652\n",
       "12                     albert-base-v1         130  41.132075  51.115455\n",
       "13                     albert-base-v1         160  44.150943  54.533353\n",
       "14                     albert-base-v1         190  43.773585  55.106712\n",
       "15                     albert-base-v1         220  43.396226  55.346389\n",
       "16                     albert-base-v1         250  41.886792  53.693723\n",
       "17                     albert-base-v1         280  44.905660  56.507370\n",
       "18                     albert-base-v1         310  46.037736  57.907004\n",
       "19                     albert-base-v1         340  45.660377  56.976908\n",
       "20                     albert-base-v1         370  48.679245  60.875595\n",
       "21                     albert-base-v1         400  46.415094  56.907818\n",
       "22                 distilroberta-base         100  47.169811  56.363672\n",
       "23                 distilroberta-base         130  44.528302  54.559858\n",
       "24                 distilroberta-base         160  47.169811  55.652405\n",
       "25                 distilroberta-base         190  46.415094  55.480626\n",
       "26                 distilroberta-base         220  44.905660  53.885012\n",
       "27                 distilroberta-base         250  45.660377  55.753739\n",
       "28                 distilroberta-base         280  47.169811  57.604494\n",
       "29                 distilroberta-base         310  44.150943  53.519730\n",
       "30                 distilroberta-base         340  45.283019  54.875559\n",
       "31                 distilroberta-base         370  46.792453  56.431015\n",
       "32                 distilroberta-base         400  46.037736  54.546144\n",
       "33            distilbert-base-uncased         100  37.358491  46.164235\n",
       "34            distilbert-base-uncased         130  37.735849  48.125113\n",
       "35            distilbert-base-uncased         160  36.981132  46.095723\n",
       "36            distilbert-base-uncased         190  37.358491  46.796767\n",
       "37            distilbert-base-uncased         220  37.358491  46.837061\n",
       "38            distilbert-base-uncased         250  38.113208  47.556176\n",
       "39            distilbert-base-uncased         280  37.735849  47.011211\n",
       "40            distilbert-base-uncased         310  40.000000  50.474261\n",
       "41            distilbert-base-uncased         340  38.867925  48.329782\n",
       "42            distilbert-base-uncased         370  37.735849  48.004239\n",
       "43            distilbert-base-uncased         400  40.000000  50.484912\n",
       "0   google/electra-base-discriminator         100  44.150943  53.548016\n",
       "1   google/electra-base-discriminator         130  43.773585  55.551241\n",
       "2   google/electra-base-discriminator         160  46.037736  56.287107\n",
       "3   google/electra-base-discriminator         190  44.528302  57.666106\n",
       "4   google/electra-base-discriminator         220  44.150943  55.347395\n",
       "5   google/electra-base-discriminator         250  47.924528  59.251210\n",
       "6   google/electra-base-discriminator         280  48.301887  61.303000\n",
       "7   google/electra-base-discriminator         310  49.811321  61.930291\n",
       "8   google/electra-base-discriminator         340  49.811321  61.769703\n",
       "9   google/electra-base-discriminator         370  49.056604  61.580156\n",
       "10  google/electra-base-discriminator         400  47.924528  60.887613"
      ]
     },
     "execution_count": 12,
     "metadata": {},
     "output_type": "execute_result"
    }
   ],
   "source": [
    "import pandas as pd\n",
    "path = r\"C:\\Users\\tanch\\Documents\\GitHub\\Covid-19-QA-System\\URECA Research\\RAM\\max_length performance on covidQA.csv\"\n",
    "output_df = pd.DataFrame({\"model\":[model_checkpoint for _ in range(len(max_lengths_list))],\n",
    "                \"max_length\":max_lengths_list,\n",
    "                \"EM\":[max_lengths_results[i]['exact_match'] for i in range(len(max_lengths_results)) ],\n",
    "                 \"f1\":[max_lengths_results[i]['f1'] for i in range(len(max_lengths_results)) ]})\n",
    "temp_df = pd.read_csv(path)\n",
    "temp_df = temp_df.append(output_df)\n",
    "temp_df.to_csv(path, index=False)\n",
    "temp_df"
   ]
  }
 ],
 "metadata": {
  "kernelspec": {
   "display_name": "Python 3",
   "language": "python",
   "name": "python3"
  },
  "language_info": {
   "codemirror_mode": {
    "name": "ipython",
    "version": 3
   },
   "file_extension": ".py",
   "mimetype": "text/x-python",
   "name": "python",
   "nbconvert_exporter": "python",
   "pygments_lexer": "ipython3",
   "version": "3.8.3"
  }
 },
 "nbformat": 4,
 "nbformat_minor": 5
}
