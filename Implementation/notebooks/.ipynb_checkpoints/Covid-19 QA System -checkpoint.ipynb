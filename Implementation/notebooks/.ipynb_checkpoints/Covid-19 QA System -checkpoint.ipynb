{
 "cells": [
  {
   "cell_type": "markdown",
   "metadata": {},
   "source": [
    "# About:\n",
    "- This notebook illustates the implementation of Covid-19 QA system"
   ]
  },
  {
   "cell_type": "code",
   "execution_count": 1,
   "metadata": {},
   "outputs": [],
   "source": [
    "import sys\n",
    "sys.path.append(r\"C:\\Users\\tanch\\Documents\\GitHub\\URECA-Covid-19-Question-Answering-Research\\Implementation\\Datastore Manager\")\n",
    "import Config\n",
    "from haystack.document_store.elasticsearch import ElasticsearchDocumentStore\n",
    "from haystack.retriever.sparse import ElasticsearchRetriever\n",
    "from haystack.reader.farm import FARMReader\n",
    "from haystack.pipeline import ExtractiveQAPipeline\n",
    "from haystack.utils import print_answers\n",
    "import pandas as pd"
   ]
  },
  {
   "cell_type": "code",
   "execution_count": 2,
   "metadata": {},
   "outputs": [],
   "source": [
    "tuned_model_path = r\"C:\\Users\\tanch\\Documents\\URECA\\Reader\""
   ]
  },
  {
   "cell_type": "markdown",
   "metadata": {},
   "source": [
    "## Initiate Reader"
   ]
  },
  {
   "cell_type": "code",
   "execution_count": 3,
   "metadata": {
    "scrolled": true
   },
   "outputs": [
    {
     "name": "stderr",
     "output_type": "stream",
     "text": [
      "06/29/2021 15:36:06 - INFO - farm.utils -   Using device: CUDA \n",
      "06/29/2021 15:36:06 - INFO - farm.utils -   Number of GPUs: 1\n",
      "06/29/2021 15:36:06 - INFO - farm.utils -   Distributed Training: False\n",
      "06/29/2021 15:36:06 - INFO - farm.utils -   Automatic Mixed Precision: None\n",
      "06/29/2021 15:36:11 - WARNING - farm.modeling.prediction_head -   Some unused parameters are passed to the QuestionAnsweringHead. Might not be a problem. Params: {\"training\": true, \"num_labels\": 2, \"ph_output_type\": \"per_token_squad\", \"model_type\": \"span_classification\", \"label_tensor_name\": \"question_answering_label_ids\", \"label_list\": [\"start_token\", \"end_token\"], \"metric\": \"squad\", \"name\": \"QuestionAnsweringHead\"}\n",
      "2021/06/29 15:36:21 WARNING mlflow.tracking.context.git_context: Failed to import Git (the Git executable is probably not on your PATH), so Git SHA is not available. Error: Failed to initialize: Bad git executable.\n",
      "The git executable must be specified in one of the following ways:\n",
      "    - be included in your $PATH\n",
      "    - be set via $GIT_PYTHON_GIT_EXECUTABLE\n",
      "    - explicitly set via git.refresh()\n",
      "\n",
      "All git commands will error until this is rectified.\n",
      "\n",
      "This initial warning can be silenced or aggravated in the future by setting the\n",
      "$GIT_PYTHON_REFRESH environment variable. Use one of the following values:\n",
      "    - quiet|q|silence|s|none|n|0: for no warning or exception\n",
      "    - warn|w|warning|1: for a printed warning\n",
      "    - error|e|raise|r|2: for a raised exception\n",
      "\n",
      "Example:\n",
      "    export GIT_PYTHON_REFRESH=quiet\n",
      "\n",
      "06/29/2021 15:36:21 - WARNING - farm.utils -   ML Logging is turned off. No parameters, metrics or artifacts will be logged to MLFlow.\n",
      "06/29/2021 15:36:21 - INFO - farm.utils -   Using device: CUDA \n",
      "06/29/2021 15:36:21 - INFO - farm.utils -   Number of GPUs: 1\n",
      "06/29/2021 15:36:21 - INFO - farm.utils -   Distributed Training: False\n",
      "06/29/2021 15:36:21 - INFO - farm.utils -   Automatic Mixed Precision: None\n",
      "06/29/2021 15:36:21 - INFO - farm.infer -   Got ya 7 parallel workers to do inference ...\n",
      "06/29/2021 15:36:21 - INFO - farm.infer -    0    0    0    0    0    0    0 \n",
      "06/29/2021 15:36:21 - INFO - farm.infer -   /w\\  /w\\  /w\\  /w\\  /w\\  /w\\  /w\\\n",
      "06/29/2021 15:36:21 - INFO - farm.infer -   /'\\  / \\  /'\\  /'\\  / \\  / \\  /'\\\n",
      "06/29/2021 15:36:21 - INFO - farm.infer -               \n"
     ]
    }
   ],
   "source": [
    "reader = FARMReader(model_name_or_path=tuned_model_path,\n",
    "                        context_window_size = 500,\n",
    "                        max_seq_len = 280,\n",
    "                        doc_stride =  100,\n",
    "                   return_no_answer = False)"
   ]
  },
  {
   "cell_type": "markdown",
   "metadata": {},
   "source": [
    "## Connect to retriever to Elastic Search"
   ]
  },
  {
   "cell_type": "code",
   "execution_count": 4,
   "metadata": {
    "scrolled": true
   },
   "outputs": [
    {
     "name": "stderr",
     "output_type": "stream",
     "text": [
      "C:\\Users\\tanch\\anaconda3\\lib\\site-packages\\elasticsearch\\connection\\base.py:190: ElasticsearchDeprecationWarning: Elasticsearch built-in security features are not enabled. Without authentication, your cluster could be accessible to anyone. See https://www.elastic.co/guide/en/elasticsearch/reference/7.13/security-minimal-setup.html to enable security.\n",
      "  warnings.warn(message, category=ElasticsearchDeprecationWarning)\n",
      "06/29/2021 15:36:58 - INFO - elasticsearch -   HEAD http://localhost:9200/covid_datastore [status:200 request:0.110s]\n",
      "06/29/2021 15:36:58 - INFO - elasticsearch -   GET http://localhost:9200/covid_datastore [status:200 request:0.005s]\n",
      "06/29/2021 15:36:58 - INFO - elasticsearch -   PUT http://localhost:9200/covid_datastore/_mapping [status:200 request:0.029s]\n",
      "06/29/2021 15:36:58 - INFO - elasticsearch -   HEAD http://localhost:9200/label [status:200 request:0.004s]\n"
     ]
    }
   ],
   "source": [
    "document_store = ElasticsearchDocumentStore(index = Config.INDEX_NAME,\n",
    "                                            username = Config.AUTH['username'],\n",
    "                                            password = Config.AUTH['password'],\n",
    "                                            host = \"localhost\",\n",
    "                                            port = 9200,\n",
    "                                            similarity = \"dot_product\",\n",
    "                                            search_fields = [\"text\",'name'],\n",
    "                                            text_field = \"text\",\n",
    "                                            name_field = \"name\",\n",
    "                                            embedding_field = \"embedding\",\n",
    "                                            embedding_dim = 768)\n",
    "retriever = ElasticsearchRetriever(document_store=document_store)"
   ]
  },
  {
   "cell_type": "code",
   "execution_count": 11,
   "metadata": {},
   "outputs": [
    {
     "name": "stderr",
     "output_type": "stream",
     "text": [
      "06/29/2021 01:31:02 - INFO - elasticsearch -   POST http://localhost:9200/covid_datastore/_search?scroll=1d&size=10000 [status:200 request:0.021s]\n",
      "06/29/2021 01:31:02 - INFO - elasticsearch -   POST http://localhost:9200/_search/scroll [status:200 request:0.004s]\n",
      "06/29/2021 01:31:02 - INFO - elasticsearch -   DELETE http://localhost:9200/_search/scroll [status:200 request:0.003s]\n"
     ]
    },
    {
     "data": {
      "text/plain": [
       "{'text': 'Requirements for Safe Management Measures at the workplace Read the sector-specific guidelines and infographic on Safe Management Measures at the workplace. From 16 May 2021 to 13 June 2021, the Safe Management Measures for the workplace will be tightened. Previously, up to 50% of employees28 who are able to work from home could be at the workplace at any time. Now, employers must ensure that all employees who are able to work from home do so. Social gatherings at the workplace are disallowed. These measures help lower transmission risks by reducing the levels of interaction at common spaces at or near the workplace, and in public places, including public transport. Issued on 9 May 2020 Updated as of 14 May 2021 The tripartite partners (MOM, SNEF, and NTUC) have updated the workplace safe management measures to allow greater flexibility for businesses, while mitigating the risk of widespread COVID-19 transmission. Effective implementation of these measures will help to avoid having to impose tighter measures. These requirements are meant for general workplace settings. Specific workplaces like construction worksites and shipyards may have to fulfil additional requirements and should refer to sector-specific requirements1. Agencies including MOM, Building and Construction Authority (BCA) and Enterprise Singapore (ESG) will continue to enforce safe management measures and take action against errant employers. This may include issuing stop-work orders and financial penalties. Safe Management Measures To ensure COVID-safe workplaces, employers should take care of: Your workers; Your workplaces; and Those who may become unwell at your workplaces. A. Take care of your workers Provide employees options to work from home. From 16 May 2021 to 13 June 2021, employers must exercise heightened vigilance at the workplace. Employers must ensure that all employees who are able to work from home do so. Employers are encouraged to support as many employees in working from home as possible. This will help to limit the number of employees exposed at the workplace at any point in time, and reduce crowding in common areas, e.g. pantries, toilets, lifts. Having more employees work from home will also help sustain business operations should a case emerge at the workplace. Work-from-home measures should enable employees to maintain work-life harmony while continuing to meet business needs. The Tripartite Advisory on mental well-being at workplaces sets out practical guidance on measures that employers can adopt to support their employees’ mental well-being under a variety of work arrangements. For employees who are still unable to work from home, employers should review work processes, provide the necessary IT equipment to employees and adopt solutions that enable remote working and online collaboration. Employers are encouraged to leverage technology2 to ensure business continuity and safe management. Companies should continue to conduct virtual meetings as far as possible. Companies should pay special attention to vulnerable employees3 (e.g. persons who are aged 60 and above, and patients who are immunocompromised4 or have concurrent medical conditions). Employers are encouraged to enable these employees to work-from-home, allow them to travel to/from work at off-peak timings, temporarily redeploy them to another role within the company, or take other appropriate measures to reduce their exposure to infection risk. For employees at the workplace, employers must ensure the following precautions are in place: Stagger start times and allow flexible workplace hours5: This will spread out staff across time and place, and reduces possible congregation of employees at common spaces at or near the workplace, such as entrances, exits, lobbies, canteens, pantries. It also reduces congestion of people in public places, including public transport. Employers are encouraged to stagger the start times for all employees such that at least half of all employees arrive at the workplace at or after 10am, as far as possible. If physical meetings are needed, they can be scheduled after 10 am. These measures would enable more employees to avoid peak-hour travel, especially if employees require the use of public transport. Timings of lunch and other breaks should also be staggered accordingly. If it is not feasible to implement staggered start times, flexible workplace hours, and staggered break hours due to operational reasons (e.g. manufacturing production line activities), employers must implement other systemic arrangements to reduce congregation of employees at common spaces6. No cross-deployment across worksites7: No employee should work at more than one worksite. If cross-deployment cannot be avoided (e.g. due to the nature of the job), additional safeguards must be taken to minimise the risk of cross infection8. Employers should avoid organising work-related events unless critical (e.g. training session): All work-related events9 that proceed must adhere to prevailing workplace Safe Management Measures and are subjected to the following requirements10: The number of persons per event must be capped at 50 persons to limit the risk of exposure to infection. Attendees must maintain at least 1 metre safe distancing between individual attendees, as per the requirement at the workplace. Food and drinks are not allowed at work-related events. Work-related events at third-party venues11 will also be subject to any additional premise owners’ safe management policies. Social gatherings at the workplace are disallowed: Employees should have their meal breaks at the workplace individually. Wear masks at the workplace: Employers must ensure that all onsite personnel, including employees, visitors, suppliers and contractors, wear a mask and other necessary personal protective equipment13 at all times at the workplace, except during activities that require masks to be removed14. Masks will have to be worn immediately after the activity is completed. Employers should ensure that they have sufficient masks for all employees, including any need to replace masks more frequently due to workplace conditions15. Where possible, employers should consider improving the working environment for employees to enable them to sustain wearing the masks. Observe good personal hygiene: Employers should encourage their employees to observe good personal hygiene, e.g. wash their hands regularly and refrain from touching their face. B. Take care of the workplace Control access at the workplace to only essential employees and authorised visitors. Employers must use the SafeEntry visitor management system to record the entry of all personnel (including employees and visitors) entering the workplace16. All employees and visitors should check-in and check-out of workplaces using SafeEntry (with their TraceTogether app or token) to help MOH in establishing potential transmission chains. Personnel who are unwell (including having a fever upon temperature screening) must be refused entry to the workplace. Visitors who are unwell should be asked to reschedule their appointments to another day when they are well, or be served via alternate means.17 Employers must ensure that employees and visitors must declare via SafeEntry or other means18 (e.g. electronic or hard copy records), before being allowed to enter premises, that they: Are currently not under a Quarantine Order, Stay-Home Notice; Have not had close contact with a confirmed COVID-19 case in the past 14 days19; and Do not have any fever or flu-like symptoms. Adhere to travel advisories: Employers should ensure that their employees adhere to MOH’s prevailing travel advisory. Where physical interaction cannot be avoided, precautions should be taken to ensure clear physical spacing of at least 1 metre through physical means20 and demarcation of safe physical distances (at least 1m apart) using visual indicators, where possible, in the following situations21: Between all persons at meeting rooms, work areas, and workstations; and At all times during work-related events held at the workplace. Employers who are service buyers should also require their suppliers / contractors to implement similar safe distancing measures, so that operations and business interactions with these suppliers / contractors are kept safe. Where physical interactions are still necessary, e.g. delivery of goods, employers must adopt precautionary measures such as scheduling delivery times by different suppliers in a staggered manner. The durations of such transactions should be kept as short as possible. Minimise need for physical touchpoints: Employers should reduce the occurrences of, or need for common physical touchpoints in the workplace where possible (e.g. by deploying contactless access controls). Where physical contact is needed, additional safeguards must be taken to minimise the risk of cross infection (e.g. frequent disinfection of touchpoints). Step up cleaning of workplace premises through the following: Employers must ensure regular cleaning of common spaces, particularly areas with high human contact22. Where physical meetings are held or meals are taken at common spaces such as pantries or canteens, employers must clean and disinfect tables between each meeting or seating. Employers must ensure that machinery and equipment shared between different employees across different shifts or alternate teams are cleaned and disinfected before changing hands. The sanitation and hygiene advisories23 disseminated by the National Environmental Agency (NEA) must be adhered to. Provide cleaning and disinfecting agents at the following areas: Cleaning agents (e.g. liquid soap, toilet paper) must be available at all toilets and hand-wash stations. Disinfecting agents (e.g. hand sanitisers) must be installed at all human traffic stoppage points within the workplace, such as entrances, reception areas, security booths and lift lobbies. Disinfecting agents (e.g. disinfectant sprays, paper towels and wipes) must be provided at meeting rooms and other common spaces such as pantries or canteens. C. Take care of workers who become unwell at the workplace Ensure regular checks for temperature and respiratory symptoms24 for all onsite employees and visitors, twice daily or where relevant. Employers must be able to demonstrate that these checks are in place during inspections. Record proximity data on phones: To help MOH to more quickly identify potential close contacts of COVID-19 patients and reduce disease transmission, employers should encourage all employees to download and activate the TraceTogether app25. Actively monitor unwell employees and guard against incipient outbreaks: Employees at the workplace who have visited a clinic must submit to their employers records of their MCs and diagnoses provided (only for COVID-19-related symptoms, including acute respiratory infections), and if they were tested for COVID-19 and the results of their tests. Employers must take preventive action to guard against incipient outbreaks at the workplace, such as advising employees who are unwell to stay home and consult a doctor rather than going to the workplace, requiring these employees on MCs to closely monitor their health before returning to the workplace and requiring these employees’ close contacts at the workplace to monitor their health more regularly. Where possible, employers should ensure that each employee visits only one clinic for check-ups if unwell. Otherwise, employees should inform the clinic of all recent doctor visits over past 14 days for any symptoms that may be related to COVID-1926. Manage unwell cases: An evacuation plan must be prepared for unwell or suspected cases, as well as for other onsite personnel. Any employee who is feeling unwell or showing symptoms of illness should report to his employer, leave the workplace and consult a doctor immediately, even if symptoms may appear mild. Employers must track and record these cases as part of Safe Management Measures. For incapacitated or unconscious individuals, employers must clear the area of other personnel and administer aid immediately. Employers should call 995 for an emergency ambulance to ferry them to the nearest hospital. Manage confirmed cases: A follow-up plan must be put in place in the event of a confirmed case. Upon being notified of a confirmed case, employers must adopt the following precautionary measures: Immediately vacate and cordon-off the immediate section of the workplace premises where the confirmed case worked. There is no need to vacate the building or the whole floor if there had been no sustained and close contact with the confirmed case; and Carry out a thorough cleaning and disinfecting all relevant on-site areas and assets that were exposed to confirmed cases, in accordance to NEA guidelines. For worksites with confirmed cases, businesses could be suspended if there are public health grounds. D. Implement a system of Safe Management Measures Employers must establish a system to implement the above Safe Management Measures to provide a safe working environment and minimise risks of COVID-19 outbreaks. These measures must be implemented in a sustainable manner for as long as necessary. Implement a detailed monitoring plan to ensure compliance with Safe Management Measures and timely resolution of outstanding issues27. Appoint Safe Management Officer(s) (“SMO”) to assist in the implementation, coordination and monitoring of the system of Safe Management Measures at the workplace. For unionised companies, union leaders or WSH officers could be appointed as SMOs. Employers must provide appointed SMOs with adequate instruction, information and supervision as is necessary for them to fulfil their required duties. SMOs are strongly encouraged to receive training. The duties of the Officer(s) include: To coordinate implementation of Safe Management Measures, including identifying relevant risks, recommending and assisting in implementing measures to mitigate the risks, and communicating the measures to all personnel working in the workplace; To conduct inspections and checks, to ensure compliance at all times. Any non-compliance found during the inspections should be reported and documented; To remedy non-compliance found during the inspections and checks through immediate action; and To keep records of inspections, checks and correction actions, to be made available upon request by a Government Inspector. Employers must ensure that the measures above are in place, communicated and explained to employees prior to resuming work onsite (refer to Annex B for a checklist of Safe Management Measures that should be in place for resumption of business activities). Signs should also be put up to remind employees and visitors to observe all measures in place. Unionised companies should engage their unions on such arrangements. Employees should also do their part in adhering to the measures to create a safe working environment. Those who wish to report breaches or poor practices can do so via SnapSAFE, an app that allows the reporting of workplace safety and health issues to MOM. You may refer to the frequently asked questions on Safe Management Measures at the workplace after Circuit Breaker period. For further queries, please contact: Ministry of Manpower Online enquiry www.mom.gov.sg Ministry of Health MOH Emergency Line 1800 333 9999 Online enquiry www.moh.gov.sg FOOTNOTE For example, refer to BCA for construction, ESG for F&B and retail, MTI for marine and process sectors. More info about the various sector-specific requirements. Annex A provides a list of resources such as technology solutions and grants available to assist companies. Those who have a compromised or impaired immune system. Workplace hours here refers to the hours spent at the physical workplace. E.g. arrange for different groups of employees to arrive / depart through different entrances / exits. This will not apply to industries / companies that need to do so due to the nature of their work. Such companies will be required to demonstrate that cross-deployment or interaction between employees is critical for business operations, when requested by MOM or their sector agencies. E.g. systems are in place to ensure no direct contact between the cross-deployed personnel. I.e. events not organised primarily for social interaction. Work-related events that are allowed to proceed are those which primarily involve employees or stakeholders, such as conferences / seminars, corporate retreats, staff training sessions, Annual General Meetings and Extraordinary General Meetings. This is separate and distinct from MICE events approved by the Singapore Tourism Board (STB). Work-related events are allowed to resume at third-party venues, but are subject to any additional premise owners’ safe management policies. <nil> Masks for general office workplaces; for other workplace settings, please refer to sector-specific guidelines. The requirement for masks to be worn can be waived when carrying out, in the course of employment, an activity that requires that no mask may be worn, or that it must be removed in order that other equipment may be worn or used, to carry out that activity, or when riding a motorcycle in the course of employment or otherwise. E.g. humid workplaces, call centres where the nature of the work may necessitate frequent mask changing. For the full list of workplaces where SafeEntry must be deployed, please refer to Such as tele-conferencing. Not applicable for individuals seeking treatment at a medical facility. Not applicable to COVID-19 frontline workers or recovered individuals within 3 months of their first positive PCR COVID-19 test. E.g. barriers between workstations, relocation of workstations, meeting room seats. The monitoring and enforcement of safe distancing could be aided by appropriate technology (e.g. CCTVs, video analytics) where possible. Such as counters where customers are served, rooms where visitors are hosted, as well as general public access areas such as lifts, pantries, toilets, and bin areas (including bin centres where necessary). Including coughing, sneezing, breathlessness, a runny nose, or loss of sense of smell. Data recorded by TraceTogether is stored on the user’s device, and is shared with MOH for contact-tracing purposes when the user is suspected or confirmed to have COVID-19. Including but not limited to typical symptoms such as fever, cough and shortness of breath. E.g. follow-up on non-compliance and efforts to mitigate risks. Employers should note that interns, part-time staff, etc. who are under a contract of service are also employees.', 'id': 'a2a69ee8-f648-41bd-9c47-2ded22e928a4', 'score': None, 'probability': None, 'question': None, 'meta': {'category': 'advisories'}, 'embedding': None}"
      ]
     },
     "execution_count": 11,
     "metadata": {},
     "output_type": "execute_result"
    }
   ],
   "source": [
    "document_store.get_all_documents(filters = {\"category\":['advisories']})[0]"
   ]
  },
  {
   "cell_type": "code",
   "execution_count": 12,
   "metadata": {},
   "outputs": [
    {
     "name": "stderr",
     "output_type": "stream",
     "text": [
      "06/29/2021 01:31:08 - INFO - elasticsearch -   POST http://localhost:9200/covid_datastore/_search?scroll=1d&size=10000 [status:200 request:0.714s]\n",
      "06/29/2021 01:31:08 - INFO - elasticsearch -   POST http://localhost:9200/_search/scroll [status:200 request:0.004s]\n",
      "06/29/2021 01:31:08 - INFO - elasticsearch -   DELETE http://localhost:9200/_search/scroll [status:200 request:0.004s]\n"
     ]
    },
    {
     "data": {
      "text/plain": [
       "{'text': \"gradual re opening to phase 3 heightened alert from 14 june The Multi-Ministry Taskforce (MTF) has announced that Singapore will return to Phase 3 (Heightened Alert) from 14 June 2021, in two steps.From 14 June 2021:•Social gathering group sizes will increase from 2 to 5 persons•Event size limits and capacity limits of certain sectors will also increase, with pre-event testing (PET)•Resumption of personal services without masks, e.g. facials and saunasFrom 21 June 2021 (updated 18 June 2021):Due to the persistence of undetected community transmission cases, higher-risk activities – such as dining-in at F&B establishments and indoor mask-off sports activities – will be allowed in group sizes of up to 2 persons, instead of 5 persons.Group sizes of up to 5 persons will be allowed from mid-July 2021, should there be no further supers-spreader event or big clusters.Please refer to this table for full details: Current Measures for Phase 3 (Heightened Alert) Phase 3 (Heightened Alert) (21 June onwards, or as indicated) [Updated] refers to measures that were updated since the 10 June announcement Community Measures Social gatherings and interactions Group sizes up to 5 pax Up to 5 unique household visitors a day 2 social gatherings per day, whether to another household or in a public place The cap on visitors does not apply for grandchildren being cared for by grandparents. [No change] Group sizes up to 5 pax Up to 5 unique household visitors a day 2 social gatherings per day, whether to another household or in a public place The cap on visitors does not apply for grandchildren being cared for by grandparents. Workplace Work-from-home as the default No cross-deployment Social gatherings not allowed [No change] Work-from-home as the default No cross-deployment Social gatherings not allowed Event Parameters Funerals Up to 20 pax at any point in time on all days [No change] Up to 20 pax at any point in time on all days Live performances Up to 250 pax with pre-event testing (PET), up to 50 pax without PET No unmasking No singing/playing of instruments that require expulsion of air (e.g. wind, brass instruments) [No change] Up to 250 pax with PET, up to 50 pax without PET May resume unmasking and singing/ playing of instruments that require expulsion of air, subject to updated safe management measures MICE events Up to 250 pax with PET, up to 50 pax without PET No unmasking [No change] Up to 250 pax with PET, up to 50 pax without PET May resume unmasking for speakers, subject to updated safe management measures Spectator and participatory sports events Spectator sports allowed with up to 250 pax with PET, up to 50 pax without PET [No change] Spectator sports allowed up to 250 pax with PET, up to 50 pax without PET Resume mass participatory sports events with up to 250 pax with PET, up to 50 pax without PET Weddings Marriage solemnisations: Up to 250 pax with PET for all attendees, up to 50 pax without PET Couple allowed to unmask for key moments; and attendees allowed to unmask momentarily for photo-taking No wedding receptions [No change] Marriage solemnisations: Up to 250 pax with PET for all attendees, up to 50 pax without PET Couple allowed to unmask for key moments; and attendees allowed to unmask momentarily for photo-taking [Updated] From mid-July: Wedding receptions will be allowed with up to 100 pax with PET for all attendees, up to 50 pax with PET for wedding party of up to 20 pax Sector Measures Barbeque pits and campsites (in parks, HDB estates, condominiums, and country clubs) Closed [No change] Closed Cinemas Up to 250 pax with PET, up to 50 pax without PET No food or beverage [No change] Up to 250 pax with PET, up to 50 pax without PET [Updated] F&B service may resume if all customers are in groups of no more than 2 persons; if F&B service is not allowed, customers may be in groups of up to 5 persons Congregational and worship services Up to 250 pax with PET; up to 50 pax without PET No unmasking/ singing / wind and brass instruments [No change] Up to 250 pax with PET; up to 50 pax without PET May resume unmasking/ singing/ wind and brass instruments for live performances subject to relevant safe management measures Food & Beverage including hawker centres, food courts Dining-in ceased Only takeaway and delivery allowed [Updated] Dine-in allowed to resume with group sizes of up to 2 pax [Updated] Prohibition of recorded music and sounds in F&B establishments [Updated] From mid-July: Dining-in allowed to resume with group sizes of up to 5 pax Playing of recorded music and sounds in F&B establishments not allowed Sports/ exercise activities and classes provided by gyms/ fitness studios For individuals aged above 18: Indoor mask-off activities suspended Mask-off activities only allowed outdoors, up to 5 pax Indoor/outdoor mask-on classes up to 30 persons in groups of up to 5 pax For individuals aged 18 and below: Mask-off activities only allowed outdoors, up to 5 pax [Updated] Indoor mask-off activities at gyms/fitness studios may resume in groups of up to 2 pax [Updated] Indoor and outdoor classes capped at 30 pax (in groups of up to 5 pax for mask-on activities and outdoor mask-off activities; in groups of no more than 2 pax for indoor mask-off activities) Safe distancing of at least 2m between individuals and 3m between groups must be maintained [Updated] From mid-July: Indoor mask-off activities at gyms/fitness studios may resume in groups of up to 5 pax Indoor and outdoor classes capped at 30 pax (in groups of up to 5 pax) Safe distancing of at least 2m between individuals and 3m between groups must be maintained Home Based Businesses (HBBs) HBBs can operate subject to prevailing safe management measures, e.g. up to 5 unique visitors a day [No change] HBBs can operate subject to prevailing safe management measures, e.g. up to 5 unique visitors a day Hotels Group of up to 5 pax per room for staycations (except where individuals are all from the same household, subject to the room’s maximum capacity) [No change] Group of up to 5 pax per room for staycations (except where individuals are all from the same household, subject to the room’s maximum capacity) In-person tuition and enrichment classes All in-person classes suspended for those aged 18 and below Resume with up to 50 pax per class in groups of up to 5 pax, with further details to be released by MOE. (Separate safe management measures for higher-risk arts and sports classes apply.) Massage establishments (e.g. spas, saunas) & Hairdressers’ salons Services which require masks to be removed (e.g. facials, saunas) allowed to resume Prevailing safe management measures should still be observed [No change] Services which require masks to be removed (e.g. facials, saunas) allowed to resume Prevailing safe management measures should still be observed Museums and Public libraries Operating capacity of 50% [No change] Operating capacity of 50% Shopping malls and showrooms Occupancy limit of one person per 10 sqm of Gross Floor Area (GFA) [No change] Occupancy limit of one person per 10 sqm of Gross Floor Area (GFA) Tour groups Up to 50 pax for conveyance tours (Duck Tours etc.) Up to 20 pax for non-conveyance tours [No change] Up to 50 pax for conveyance tours (Duck Tours etc.) Up to 20 pax for non-conveyance tours Work-from-home remains the defaultWork-from-home will continue to remain the default arrangement as we transition out of Phase 2 (Heightened Alert). This is to ensure that we keep the risk of COVID-19 transmission low.Employers must continue to: Ensure that employees who are able to work-from-home do so Stagger start times of those who need to return to the workplace Implement flexible working hours Not cross-deploy workers across multiple worksites Regular Fast and Easy Testing (FET) regime for staff involved in higher-risk mask-off activities [Updated 18 Jun 2021]All staff working at settings with unmasked clients/patrons will be placed on a mandatory 14-day FET regime from around mid-July 2021. These include:•Dine-in F&B establishments (starting progressively from 21 June 2021)•Personal care and appearance services that require removal of masks (e.g. facial services, saunas, make-up services)•Gyms and fitness studios where clients are unmaskedMost FET will be done through a system of self-swabs supervised by the employer. Training programmes have been set up to support supervisors in supervising ART self-swabs, at no cost for the next 3 months. ART kits will also be made available.Quick Test Centres (QTCs) will be set up to support small businesses who are unable to organise the supervised self-swabs. QTCs at Tekka and Yishun which will be operational from 21 June 2021, with more progressively set up. The Government will also facilitate earlier vaccination of individuals who work in these settings. Visits to residential care homes [Updated 18 Jun 2021]Physical visits to residential care homes serving elderly (“Homes”) will resume from 21 June 2021. Visitors will need to take a FET – via ARTs – at the Home and test negative prior to entry. Some Homes may require more time to put in place the necessary procedures for ART, and will only be able to resume visits at a later date, while others may start with a smaller number of visitors. Visitors should continue to schedule visits ahead of time, and take into consideration the added time required to complete the ART. Targeted support measures [Updated 18 Jun 2021]In view of the continued tightened safe management measures until mid-July 2021, the Government will extend the current enhancements to the Jobs Support Scheme (JSS) for affected sectors by 3 weeks, before tapering it down to 10% for another 2 weeks.Please refer to this table for details: Sectors with JSS enhancement JSS Support for Stage 1 of Phase 3 (Heightened Alert) 14 June – 20 June Proposed new JSS Support Next 3 weeks (starting 21 June) 2 weeks after (starting 12 July) Closed sectors or sectors with enhanced safe management measures Food and Beverage (F&B) Gyms and fitness studios Performing Arts & Arts Education 50% 50% 10% Significantly affected sectors Retail Cinemas Museums, art galleries, historical sites Family entertainment 30% 30% *As announced earlier, affected personal care services will receive 30% enhanced JSS until 20 Jun and 10% from 21 Jun to 30 Jun For hawkers who are self-employed, the Government will extend subsidies for fees for table-cleaning and centralised dishwashing services, and provide rental waivers, till mid-July 2021, for stallholders in centres managed by NEA or NEA-appointed operators.The Government will also extend the COVID-19 Recovery Grant (Temporary) [CRG-T] until 31 July 2021. Existing CRG-T recipients who continue to require assistance can also apply for a second tranche of CRG-T support in July. For taxi and private hire car drivers, the Government will extend the COVID-19 Driver Relief Fund for 3 more months at $300 per month per vehicle for two months, and $150 per month per vehicle for the next one month. Deployment of SafeEntry Gateway Check-Out Boxes [Updated 18 Jun 2021]To facilitate SafeEntry (SE) check-outs, SafeEntry Gateway (SEGW) Check-Out Boxes will be rolled out progressively at venues with high footfall (e.g. malls, hospitals and polyclinics), and places where individuals are likely to be in close proximity for prolonged periods with masks off (e.g. dine-in F&B outlets and gyms).Members of the public are encouraged to perform SE check-outs when leaving the premises as far as possible. This will help to facilitate more precise contact tracing efforts. Sale of Antigen Rapid Test (ART) self-test kit at retail pharmaciesThe Health Sciences Authority (HSA) has granted interim authorisation for 4 ART self-test kits for sale to the general public at pharmacists from 16 June 2021:•Abbott PanBioTM COVID-19 Antigen Self-test•QuickVue At-Home OTC COVID-19 Test•SD Biosensor SARS-CoV-2 Antigen Self-Test Nasal•SD Biosensor Standard Q COVID-19 Ag Home TestIndividuals who have a positive result for their ART self-test should immediately approach a Swab and Send Home Public Health Preparedness Clinic (SASH PHPC) for a confirmatory Polymerase Chain Reaction (PCR) test. They are then required to self-isolate until they receive a negative PCR test result. Those who test negative on their self-test ART should continue to stay vigilant, and adhere to prevailing safe management measures. Individuals who have acute respiratory infection (ARI) symptoms should continue to visit a doctor for a full diagnosis and PCR test, instead of relying on an ART self-test kit.For more information, click here for MOH's press release.\", 'id': '35f405cd-5811-4a10-8405-f8920adb429d', 'score': None, 'probability': None, 'question': None, 'meta': {'category': 'articles'}, 'embedding': None}"
      ]
     },
     "execution_count": 12,
     "metadata": {},
     "output_type": "execute_result"
    }
   ],
   "source": [
    "document_store.get_all_documents(filters = {\"category\":['articles']})[0]"
   ]
  },
  {
   "cell_type": "markdown",
   "metadata": {},
   "source": [
    "## Connect reader to retriever"
   ]
  },
  {
   "cell_type": "code",
   "execution_count": 7,
   "metadata": {},
   "outputs": [],
   "source": [
    "pipe = ExtractiveQAPipeline(reader, retriever) "
   ]
  },
  {
   "cell_type": "markdown",
   "metadata": {},
   "source": [
    "## Making predictions on CovidQA"
   ]
  },
  {
   "cell_type": "code",
   "execution_count": 8,
   "metadata": {},
   "outputs": [],
   "source": [
    "questions = [\"when was the official launch of covid 19 vaccination for women?\",\"what is the likelihood of getting serious illness due to moderna vaccine?\",\"how fast can ART kits give results?\",\"why do some seniors avoid taking the vaccine?\",\"how much does nasal swab cost??\",\"what was MOH's response after the Victoria Junior College student contracted covid?\",\"what is a serology test\",\"what is the capacity of recreational facilities?\",\"what are the benefits of COVID-19 Driver Relief Fund?\",\"what is the capacity of live performances without PET?\"]\n",
    "answers = []\n",
    "contexts =[]"
   ]
  },
  {
   "cell_type": "code",
   "execution_count": 9,
   "metadata": {},
   "outputs": [],
   "source": [
    "question = \"is mRNA vaccine safe for youth?\""
   ]
  },
  {
   "cell_type": "code",
   "execution_count": 10,
   "metadata": {},
   "outputs": [
    {
     "name": "stderr",
     "output_type": "stream",
     "text": [
      "06/29/2021 15:40:09 - INFO - elasticsearch -   POST http://localhost:9200/covid_datastore/_search [status:200 request:0.218s]\n",
      "Inferencing Samples: 100%|█████████████████████████████████████████████████████████| 1/1 [00:01<00:00,  1.44s/ Batches]\n",
      "Inferencing Samples: 100%|█████████████████████████████████████████████████████████| 1/1 [00:00<00:00,  3.61 Batches/s]\n",
      "Inferencing Samples: 100%|█████████████████████████████████████████████████████████| 1/1 [00:00<00:00,  4.99 Batches/s]\n",
      "Inferencing Samples: 100%|█████████████████████████████████████████████████████████| 1/1 [00:00<00:00,  4.13 Batches/s]\n",
      "Inferencing Samples: 100%|█████████████████████████████████████████████████████████| 1/1 [00:00<00:00,  4.99 Batches/s]\n",
      "Inferencing Samples: 100%|█████████████████████████████████████████████████████████| 1/1 [00:00<00:00,  2.87 Batches/s]\n",
      "Inferencing Samples: 100%|█████████████████████████████████████████████████████████| 1/1 [00:00<00:00,  9.64 Batches/s]\n",
      "Inferencing Samples: 100%|█████████████████████████████████████████████████████████| 1/1 [00:00<00:00,  4.53 Batches/s]\n",
      "Inferencing Samples: 100%|█████████████████████████████████████████████████████████| 1/1 [00:00<00:00,  4.91 Batches/s]\n",
      "Inferencing Samples: 100%|█████████████████████████████████████████████████████████| 1/1 [00:00<00:00,  1.41 Batches/s]\n"
     ]
    },
    {
     "data": {
      "text/plain": [
       "{'query': 'is mRNA vaccine safe for youth?',\n",
       " 'no_ans_gap': 7.205046653747559,\n",
       " 'answers': [{'answer': 'safe and highly effective',\n",
       "   'score': 12.247273445129395,\n",
       "   'probability': 0.8221392992492481,\n",
       "   'context': 'mitteeandauthorised by the Health Science Authority (HSA) under the Pandemic Special Access Route (PSAR). The committee said its assessment, based on a continual review of data and evidence, remains that the authorised mRNA vaccines are \"safe and highly effective\" and continue to show protection against the virus variants. \"The inactivated virus COVID-19 vaccines have variable protection and there is currently no evidence to suggest that inactivated virus vaccines demonstrate higher vaccine effi',\n",
       "   'offset_start': 238,\n",
       "   'offset_end': 263,\n",
       "   'offset_start_in_doc': 1111,\n",
       "   'offset_end_in_doc': 1136,\n",
       "   'document_id': '9a8837a1-83be-4451-bc42-bd0f19f527af',\n",
       "   'meta': {'category': 'articles'}}]}"
      ]
     },
     "execution_count": 10,
     "metadata": {},
     "output_type": "execute_result"
    }
   ],
   "source": [
    "pipe.run(query=question, top_k_retriever=10, top_k_reader=1)"
   ]
  },
  {
   "cell_type": "code",
   "execution_count": 6,
   "metadata": {
    "scrolled": true
   },
   "outputs": [
    {
     "ename": "NameError",
     "evalue": "name 'pipe' is not defined",
     "output_type": "error",
     "traceback": [
      "\u001b[1;31m---------------------------------------------------------------------------\u001b[0m",
      "\u001b[1;31mNameError\u001b[0m                                 Traceback (most recent call last)",
      "\u001b[1;32m<ipython-input-6-f1e1ea942690>\u001b[0m in \u001b[0;36m<module>\u001b[1;34m\u001b[0m\n\u001b[0;32m      1\u001b[0m \u001b[1;32mfor\u001b[0m \u001b[0mquestion\u001b[0m \u001b[1;32min\u001b[0m \u001b[0mquestions\u001b[0m\u001b[1;33m:\u001b[0m\u001b[1;33m\u001b[0m\u001b[1;33m\u001b[0m\u001b[0m\n\u001b[1;32m----> 2\u001b[1;33m     \u001b[0moutput\u001b[0m \u001b[1;33m=\u001b[0m \u001b[0mpipe\u001b[0m\u001b[1;33m.\u001b[0m\u001b[0mrun\u001b[0m\u001b[1;33m(\u001b[0m\u001b[0mquery\u001b[0m\u001b[1;33m=\u001b[0m\u001b[0mquestion\u001b[0m\u001b[1;33m,\u001b[0m \u001b[0mtop_k_retriever\u001b[0m\u001b[1;33m=\u001b[0m\u001b[1;36m10\u001b[0m\u001b[1;33m,\u001b[0m \u001b[0mtop_k_reader\u001b[0m\u001b[1;33m=\u001b[0m\u001b[1;36m1\u001b[0m\u001b[1;33m)\u001b[0m\u001b[1;33m\u001b[0m\u001b[1;33m\u001b[0m\u001b[0m\n\u001b[0m\u001b[0;32m      3\u001b[0m     \u001b[1;32mtry\u001b[0m\u001b[1;33m:\u001b[0m\u001b[1;33m\u001b[0m\u001b[1;33m\u001b[0m\u001b[0m\n\u001b[0;32m      4\u001b[0m         \u001b[0manswer\u001b[0m\u001b[1;33m,\u001b[0m\u001b[0mcontext\u001b[0m \u001b[1;33m=\u001b[0m \u001b[0moutput\u001b[0m\u001b[1;33m[\u001b[0m\u001b[1;34m'answers'\u001b[0m\u001b[1;33m]\u001b[0m\u001b[1;33m[\u001b[0m\u001b[1;36m0\u001b[0m\u001b[1;33m]\u001b[0m\u001b[1;33m[\u001b[0m\u001b[1;34m'answer'\u001b[0m\u001b[1;33m]\u001b[0m\u001b[1;33m,\u001b[0m\u001b[0moutput\u001b[0m\u001b[1;33m[\u001b[0m\u001b[1;34m'answers'\u001b[0m\u001b[1;33m]\u001b[0m\u001b[1;33m[\u001b[0m\u001b[1;36m0\u001b[0m\u001b[1;33m]\u001b[0m\u001b[1;33m[\u001b[0m\u001b[1;34m'context'\u001b[0m\u001b[1;33m]\u001b[0m\u001b[1;33m\u001b[0m\u001b[1;33m\u001b[0m\u001b[0m\n\u001b[0;32m      5\u001b[0m     \u001b[1;32mexcept\u001b[0m\u001b[1;33m:\u001b[0m\u001b[1;33m\u001b[0m\u001b[1;33m\u001b[0m\u001b[0m\n",
      "\u001b[1;31mNameError\u001b[0m: name 'pipe' is not defined"
     ]
    }
   ],
   "source": [
    "for question in questions:\n",
    "    output = pipe.run(query=question, top_k_retriever=10, top_k_reader=1)\n",
    "    try:\n",
    "        answer,context = output['answers'][0]['answer'],output['answers'][0]['context']\n",
    "    except:\n",
    "        answer = \"\"\n",
    "    answers.append(answer)\n",
    "    contexts.append(context)"
   ]
  },
  {
   "cell_type": "code",
   "execution_count": 98,
   "metadata": {},
   "outputs": [
    {
     "data": {
      "text/html": [
       "<div>\n",
       "<style scoped>\n",
       "    .dataframe tbody tr th:only-of-type {\n",
       "        vertical-align: middle;\n",
       "    }\n",
       "\n",
       "    .dataframe tbody tr th {\n",
       "        vertical-align: top;\n",
       "    }\n",
       "\n",
       "    .dataframe thead th {\n",
       "        text-align: right;\n",
       "    }\n",
       "</style>\n",
       "<table border=\"1\" class=\"dataframe\">\n",
       "  <thead>\n",
       "    <tr style=\"text-align: right;\">\n",
       "      <th></th>\n",
       "      <th>Question</th>\n",
       "      <th>Answer</th>\n",
       "      <th>Context</th>\n",
       "    </tr>\n",
       "  </thead>\n",
       "  <tbody>\n",
       "    <tr>\n",
       "      <th>0</th>\n",
       "      <td>when was the official launch of covid 19 vaccination for women?</td>\n",
       "      <td>June 14</td>\n",
       "      <td>f foetal anomaly reported was 2.6 per cent, Prof Tan said. For miscarriage, ...</td>\n",
       "    </tr>\n",
       "    <tr>\n",
       "      <th>1</th>\n",
       "      <td>what is the likelihood of getting serious illness due to moderna vaccine?</td>\n",
       "      <td>0.004 per cent</td>\n",
       "      <td>effects are caused by the body’s immune response to the vaccine. Out of mor...</td>\n",
       "    </tr>\n",
       "    <tr>\n",
       "      <th>2</th>\n",
       "      <td>how fast can ART kits give results?</td>\n",
       "      <td>less than 20 minutes</td>\n",
       "      <td>Singapore's director of medical services, Associate Professor Kenneth Mak, s...</td>\n",
       "    </tr>\n",
       "    <tr>\n",
       "      <th>3</th>\n",
       "      <td>why do some seniors avoid taking the vaccine?</td>\n",
       "      <td>fear of complications or side effects</td>\n",
       "      <td>fear of complications or side effects main reason some seniors spurn covid 1...</td>\n",
       "    </tr>\n",
       "    <tr>\n",
       "      <th>4</th>\n",
       "      <td>how much does nasal swab cost??</td>\n",
       "      <td>$10</td>\n",
       "      <td>rtable. An average of over 55,000 PCR and ART tests were carried out each da...</td>\n",
       "    </tr>\n",
       "    <tr>\n",
       "      <th>5</th>\n",
       "      <td>what was MOH's response after the Victoria Junior College student contracted...</td>\n",
       "      <td>quarantined 95 students and eight staff</td>\n",
       "      <td>rm of active case finding. Experts have noted the more aggressive approach i...</td>\n",
       "    </tr>\n",
       "    <tr>\n",
       "      <th>6</th>\n",
       "      <td>what is a serology test</td>\n",
       "      <td>detects the presence of antibodies and can show if the person might have bee...</td>\n",
       "      <td>part of community surveillance testing for residents in the Bukit Merah View...</td>\n",
       "    </tr>\n",
       "    <tr>\n",
       "      <th>7</th>\n",
       "      <td>what is the capacity of recreational facilities?</td>\n",
       "      <td>50</td>\n",
       "      <td>1 Refers to 18 years (born in 2003) and below 2 Issued: 14 May 2021 Updated...</td>\n",
       "    </tr>\n",
       "    <tr>\n",
       "      <th>8</th>\n",
       "      <td>what are the benefits of COVID-19 Driver Relief Fund?</td>\n",
       "      <td>$500</td>\n",
       "      <td>ss of complete or partial (at least 10%) household income due to COVID-19 • ...</td>\n",
       "    </tr>\n",
       "    <tr>\n",
       "      <th>9</th>\n",
       "      <td>what is the capacity of live performances without PET?</td>\n",
       "      <td>50 pax</td>\n",
       "      <td>o cross-deployment Social gatherings not allowed Event Parameters Funerals U...</td>\n",
       "    </tr>\n",
       "  </tbody>\n",
       "</table>\n",
       "</div>"
      ],
      "text/plain": [
       "                                                                          Question  \\\n",
       "0                  when was the official launch of covid 19 vaccination for women?   \n",
       "1        what is the likelihood of getting serious illness due to moderna vaccine?   \n",
       "2                                              how fast can ART kits give results?   \n",
       "3                                    why do some seniors avoid taking the vaccine?   \n",
       "4                                                  how much does nasal swab cost??   \n",
       "5  what was MOH's response after the Victoria Junior College student contracted...   \n",
       "6                                                          what is a serology test   \n",
       "7                                 what is the capacity of recreational facilities?   \n",
       "8                            what are the benefits of COVID-19 Driver Relief Fund?   \n",
       "9                           what is the capacity of live performances without PET?   \n",
       "\n",
       "                                                                            Answer  \\\n",
       "0                                                                          June 14   \n",
       "1                                                                   0.004 per cent   \n",
       "2                                                             less than 20 minutes   \n",
       "3                                            fear of complications or side effects   \n",
       "4                                                                              $10   \n",
       "5                                          quarantined 95 students and eight staff   \n",
       "6  detects the presence of antibodies and can show if the person might have bee...   \n",
       "7                                                                               50   \n",
       "8                                                                             $500   \n",
       "9                                                                           50 pax   \n",
       "\n",
       "                                                                           Context  \n",
       "0  f foetal anomaly reported was 2.6 per cent, Prof Tan said. For miscarriage, ...  \n",
       "1   effects are caused by the body’s immune response to the vaccine. Out of mor...  \n",
       "2  Singapore's director of medical services, Associate Professor Kenneth Mak, s...  \n",
       "3  fear of complications or side effects main reason some seniors spurn covid 1...  \n",
       "4  rtable. An average of over 55,000 PCR and ART tests were carried out each da...  \n",
       "5  rm of active case finding. Experts have noted the more aggressive approach i...  \n",
       "6  part of community surveillance testing for residents in the Bukit Merah View...  \n",
       "7   1 Refers to 18 years (born in 2003) and below 2 Issued: 14 May 2021 Updated...  \n",
       "8  ss of complete or partial (at least 10%) household income due to COVID-19 • ...  \n",
       "9  o cross-deployment Social gatherings not allowed Event Parameters Funerals U...  "
      ]
     },
     "execution_count": 98,
     "metadata": {},
     "output_type": "execute_result"
    }
   ],
   "source": [
    "import pandas as pd\n",
    "pd.DataFrame({\"Question\":questions, \"Answer\":answers,\"Context\":contexts})"
   ]
  }
 ],
 "metadata": {
  "kernelspec": {
   "display_name": "Python 3",
   "language": "python",
   "name": "python3"
  },
  "language_info": {
   "codemirror_mode": {
    "name": "ipython",
    "version": 3
   },
   "file_extension": ".py",
   "mimetype": "text/x-python",
   "name": "python",
   "nbconvert_exporter": "python",
   "pygments_lexer": "ipython3",
   "version": "3.8.3"
  }
 },
 "nbformat": 4,
 "nbformat_minor": 4
}
